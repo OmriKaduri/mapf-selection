{
 "cells": [
  {
   "cell_type": "code",
   "execution_count": 1,
   "metadata": {},
   "outputs": [],
   "source": [
    "import pandas as pd"
   ]
  },
  {
   "cell_type": "code",
   "execution_count": 2,
   "metadata": {},
   "outputs": [],
   "source": [
    "import sys\n",
    "\n",
    "\n",
    "def left_edge(row_index, width, cell_index, direction='out'):\n",
    "    if direction == 'out':\n",
    "        return (row_index * width + cell_index), (row_index * width + cell_index - 1)\n",
    "    else:\n",
    "        return (row_index * width + cell_index - 1), (row_index * width + cell_index)\n",
    "\n",
    "\n",
    "def right_edge(row_index, width, cell_index, direction='out'):\n",
    "    if direction == 'out':\n",
    "        return (row_index * width + cell_index), (row_index * width + cell_index + 1)\n",
    "    else:\n",
    "        return (row_index * width + cell_index + 1), (row_index * width + cell_index)\n",
    "\n",
    "\n",
    "def bottom_edge(row_index, width, cell_index, direction='out'):\n",
    "    if direction == 'out':\n",
    "        return (row_index * width + cell_index), ((row_index + 1) * width + cell_index)\n",
    "    else:\n",
    "        return ((row_index + 1) * width + cell_index), (row_index * width + cell_index)\n",
    "\n",
    "\n",
    "def top_edge(row_index, width, cell_index, direction='out'):\n",
    "    if direction == 'out':\n",
    "        return (row_index * width + cell_index), ((row_index - 1) * width + cell_index)\n",
    "    else:\n",
    "        return ((row_index - 1) * width + cell_index), (row_index * width + cell_index)\n",
    "\n",
    "\n",
    "def mark_cell_as_obstacle(cell_index, row_index, grid_size, graph):\n",
    "    graph.add_node(row_index * grid_size[1] + cell_index, color='white', size=1)\n",
    "    try:\n",
    "        if graph.has_edge(*left_edge(row_index, grid_size[1], cell_index, direction='in')):  # Remove edge from left\n",
    "            graph.remove_edge(*left_edge(row_index, grid_size[1], cell_index, direction='in'))\n",
    "        if graph.has_edge(*top_edge(row_index, grid_size[1], cell_index, direction='in')):  # Remove edge from up\n",
    "            graph.remove_edge(*top_edge(row_index, grid_size[1], cell_index, direction='in'))\n",
    "    except:\n",
    "        print(\"Unexpected error:\", sys.exc_info()[0])\n",
    "        print(cell_index, row_index)\n",
    "        print(\"Tried to remove an edge already removed\")\n",
    "\n",
    "\n",
    "def mark_cell_as_free(cell_index, row_index, grid_size, graph):\n",
    "    graph.add_node(row_index * grid_size[1] + cell_index, color='black', size=1)\n",
    "    if cell_index > 0 and graph.has_edge(\n",
    "            *left_edge(row_index, grid_size[1], cell_index, direction='in')):  # Create Edge to left\n",
    "        graph.add_edge(*left_edge(row_index, grid_size[1], cell_index), weight=1)\n",
    "    if cell_index < grid_size[1] - 1:  # Create Edge to Right\n",
    "        graph.add_edge(*right_edge(row_index, grid_size[1], cell_index), weight=1)\n",
    "    if row_index < grid_size[0] - 1:  # Create Edge to Bottom\n",
    "        graph.add_edge(*bottom_edge(row_index, grid_size[1], cell_index), weight=1)\n",
    "    if row_index > 0 and graph.has_edge(\n",
    "            *top_edge(row_index, grid_size[1], cell_index, direction='in')):  # Create Edge to Top\n",
    "        graph.add_edge(*top_edge(row_index, grid_size[1], cell_index), weight=1)\n",
    "\n",
    "\n",
    "def agent_points_from(metadata, grid_width):\n",
    "    goal_x = int(metadata[1])\n",
    "    goal_y = int(metadata[2])\n",
    "    start_x = int(metadata[3])\n",
    "    start_y = int(metadata[4])\n",
    "\n",
    "    return start_x * grid_width + start_y, goal_x * grid_width + goal_y\n",
    "\n",
    "\n",
    "def rotate_positions_90_clockwise(x, y):\n",
    "    return y, -x\n"
   ]
  },
  {
   "cell_type": "code",
   "execution_count": 3,
   "metadata": {},
   "outputs": [],
   "source": [
    "import networkx as nx\n",
    "import matplotlib.pyplot as plt\n",
    "\n",
    "\n",
    "class MapfGraph:\n",
    "    def __init__(self, mapf_instance_filename):\n",
    "        self.filename = mapf_instance_filename\n",
    "        self.instance = -1\n",
    "        self.grid_size = [-1, -1]\n",
    "        self.num_agents = -1\n",
    "        self.color_map = []\n",
    "        self.node_size = []\n",
    "        self.weights = []\n",
    "        # self.labels = {}\n",
    "        self.num_obstacles = 0\n",
    "        self.G = nx.empty_graph()\n",
    "        self.agent_sps = []\n",
    "        self.agents = []\n",
    "        \n",
    "    def create_graph(self):\n",
    "        with open(self.filename) as f:\n",
    "            for index, line in enumerate(f):\n",
    "#                 if index == 0:\n",
    "#                     self.instance = line.split(',')[0]\n",
    "                    # Done for cases when the instance is of the format X,MORETEXT => X\n",
    "                if index == 1:\n",
    "                    height = int(line.split(' ')[1])\n",
    "                    \n",
    "                elif index == 2:\n",
    "                    width = int(line.split(' ')[1])\n",
    "                    self.grid_size = [height, width]  # HeightXWidth dimensions\n",
    "                    self.G = nx.DiGraph()\n",
    "                \n",
    "                elif 3 < index < self.grid_size[0] + 4:\n",
    "                    # Do for all lines representing the grid. grid_size[1] is the grid width\n",
    "                    for cell_index, cell in enumerate(line):\n",
    "                        if cell == '.':\n",
    "                            mark_cell_as_free(cell_index, index - 3, self.grid_size, self.G)\n",
    "                        elif cell == '@' or cell == 'T':\n",
    "                            mark_cell_as_obstacle(cell_index, index - 3, self.grid_size, self.G)\n",
    "                            self.num_obstacles += 1\n",
    "\n",
    "                elif index == self.grid_size[0] + 4:  # Number of agents line\n",
    "                    self.num_agents = int(line)\n",
    "\n",
    "                elif index > self.grid_size[0] + 4:\n",
    "                    agent_data = line.split(',')\n",
    "                    start, goal = agent_points_from(agent_data, self.grid_size[1])\n",
    "                    self.agents.append((start+1,goal+1))\n",
    "                    self.G.add_node(goal, color=\"green\", size=1)\n",
    "                    self.G.add_node(start, color=\"red\", size=1)\n",
    "#                     paths = nx.astar_path(self.G, start, goal, weight='weight')\n",
    "#                     self.agent_sps.append([p for p in paths])\n",
    "\n",
    "#             for sp in self.agent_sps:\n",
    "#                 path_edges = list(zip(sp, sp[1:]))\n",
    "#                 for edge in path_edges:\n",
    "#                     node_from, node_to = edge\n",
    "#                     self.G.add_edge(*edge, weight=self.G[node_from][node_to]['weight'] + 3)\n",
    "                    # THIS MUST BE DONE AFTER ALL SHORTEST PATHS COMPUTED\n",
    "\n",
    "    def write_neibs_to_picat(self, file):\n",
    "        neibs = {}\n",
    "        for g_node in self.G.nodes():\n",
    "            g_node_neibs = self.G[g_node]\n",
    "            if len(g_node_neibs) == 0:\n",
    "                continue\n",
    "            neibs[g_node] = []\n",
    "            \n",
    "            file.write(f'\\n\\t$neibs({g_node+1},{[neib+1 for neib in g_node_neibs]}),')\n",
    "            \n",
    "            for neib in g_node_neibs:\n",
    "                neibs[g_node].append(neib)\n",
    "        file.write('\\n\\t],') \n",
    "\n",
    "        return neibs\n",
    "    \n",
    "    def write_agents_to_picat(self, file):\n",
    "        for agent in self.agents:\n",
    "            print(agent)\n",
    "    \n",
    "    def save_graph_to(self, filename):\n",
    "        nx.write_edgelist(self.G, filename)\n",
    "\n",
    "    def save_gexf_graph_to(self, filename):\n",
    "        nx.write_gexf(self.G, filename)"
   ]
  },
  {
   "cell_type": "code",
   "execution_count": 5,
   "metadata": {},
   "outputs": [
    {
     "data": {
      "text/plain": [
       "65536"
      ]
     },
     "execution_count": 5,
     "metadata": {},
     "output_type": "execute_result"
    }
   ],
   "source": [
    "graph = MapfGraph('../data/from-vpn/maps/Berlin_1_256.map')\n",
    "graph.create_graph()\n",
    "len(graph.G)"
   ]
  },
  {
   "cell_type": "code",
   "execution_count": 101,
   "metadata": {},
   "outputs": [],
   "source": [
    "with open(picat_instance, 'w+') as picat_file:\n",
    "    picat_file.write('ins(Graph, As, Avoid, Makespan, SumOfCosts) =>\\n')\n",
    "    picat_file.write('\\tGraph = [')\n",
    "    graph.write_neibs_to_picat(picat_file)"
   ]
  },
  {
   "cell_type": "code",
   "execution_count": 98,
   "metadata": {},
   "outputs": [
    {
     "name": "stdout",
     "output_type": "stream",
     "text": [
      "graph/instances\\Berlin_1_256-1-1\n",
      "Berlin_1_256-1-1\n",
      "graph/instances\\Berlin_1_256-1-10\n",
      "Berlin_1_256-1-10\n",
      "Calc graph\n"
     ]
    },
    {
     "ename": "IndexError",
     "evalue": "list index out of range",
     "output_type": "error",
     "traceback": [
      "\u001b[1;31m---------------------------------------------------------------------------\u001b[0m",
      "\u001b[1;31mIndexError\u001b[0m                                Traceback (most recent call last)",
      "\u001b[1;32m<ipython-input-98-326b9c49c505>\u001b[0m in \u001b[0;36m<module>\u001b[1;34m\u001b[0m\n\u001b[0;32m     19\u001b[0m     \u001b[0mprint\u001b[0m\u001b[1;33m(\u001b[0m\u001b[1;34m\"Calc graph\"\u001b[0m\u001b[1;33m)\u001b[0m\u001b[1;33m\u001b[0m\u001b[1;33m\u001b[0m\u001b[0m\n\u001b[0;32m     20\u001b[0m     \u001b[0mgraph\u001b[0m \u001b[1;33m=\u001b[0m \u001b[0mMapfGraph\u001b[0m\u001b[1;33m(\u001b[0m\u001b[0mfile\u001b[0m\u001b[1;33m)\u001b[0m\u001b[1;33m\u001b[0m\u001b[1;33m\u001b[0m\u001b[0m\n\u001b[1;32m---> 21\u001b[1;33m     \u001b[0mgraph\u001b[0m\u001b[1;33m.\u001b[0m\u001b[0mcreate_graph\u001b[0m\u001b[1;33m(\u001b[0m\u001b[1;33m)\u001b[0m\u001b[1;33m\u001b[0m\u001b[1;33m\u001b[0m\u001b[0m\n\u001b[0m\u001b[0;32m     22\u001b[0m     \u001b[1;32mwith\u001b[0m \u001b[0mopen\u001b[0m\u001b[1;33m(\u001b[0m\u001b[0mpicat_instance\u001b[0m\u001b[1;33m,\u001b[0m \u001b[1;34m'w+'\u001b[0m\u001b[1;33m)\u001b[0m \u001b[1;32mas\u001b[0m \u001b[0mpicat_file\u001b[0m\u001b[1;33m:\u001b[0m\u001b[1;33m\u001b[0m\u001b[1;33m\u001b[0m\u001b[0m\n\u001b[0;32m     23\u001b[0m         \u001b[0mpicat_file\u001b[0m\u001b[1;33m.\u001b[0m\u001b[0mwrite\u001b[0m\u001b[1;33m(\u001b[0m\u001b[1;34m'ins(Graph, As, Avoid, Makespan, SumOfCosts) =>\\n'\u001b[0m\u001b[1;33m)\u001b[0m\u001b[1;33m\u001b[0m\u001b[1;33m\u001b[0m\u001b[0m\n",
      "\u001b[1;32m<ipython-input-95-013cfea4edea>\u001b[0m in \u001b[0;36mcreate_graph\u001b[1;34m(self)\u001b[0m\n\u001b[0;32m     25\u001b[0m                     \u001b[1;31m# Done for cases when the instance is of the format X,MORETEXT => X\u001b[0m\u001b[1;33m\u001b[0m\u001b[1;33m\u001b[0m\u001b[1;33m\u001b[0m\u001b[0m\n\u001b[0;32m     26\u001b[0m                 \u001b[1;32mif\u001b[0m \u001b[0mindex\u001b[0m \u001b[1;33m==\u001b[0m \u001b[1;36m1\u001b[0m\u001b[1;33m:\u001b[0m\u001b[1;33m\u001b[0m\u001b[1;33m\u001b[0m\u001b[0m\n\u001b[1;32m---> 27\u001b[1;33m                     \u001b[0mheight\u001b[0m \u001b[1;33m=\u001b[0m \u001b[0mint\u001b[0m\u001b[1;33m(\u001b[0m\u001b[0mline\u001b[0m\u001b[1;33m.\u001b[0m\u001b[0msplit\u001b[0m\u001b[1;33m(\u001b[0m\u001b[1;34m' '\u001b[0m\u001b[1;33m)\u001b[0m\u001b[1;33m[\u001b[0m\u001b[1;36m1\u001b[0m\u001b[1;33m]\u001b[0m\u001b[1;33m)\u001b[0m\u001b[1;33m\u001b[0m\u001b[1;33m\u001b[0m\u001b[0m\n\u001b[0m\u001b[0;32m     28\u001b[0m \u001b[1;33m\u001b[0m\u001b[0m\n\u001b[0;32m     29\u001b[0m                 \u001b[1;32melif\u001b[0m \u001b[0mindex\u001b[0m \u001b[1;33m==\u001b[0m \u001b[1;36m2\u001b[0m\u001b[1;33m:\u001b[0m\u001b[1;33m\u001b[0m\u001b[1;33m\u001b[0m\u001b[0m\n",
      "\u001b[1;31mIndexError\u001b[0m: list index out of range"
     ]
    }
   ],
   "source": [
    "from matplotlib import colors\n",
    "import numpy as np\n",
    "from PIL import Image\n",
    "import glob \n",
    "import os\n",
    "\n",
    "mapf_dir = 'AllData'\n",
    "for file in glob.glob('graph/instances/*'):\n",
    "    if 'current' in file:\n",
    "        continue\n",
    "    print(file)\n",
    "    filename = file.split('\\\\')[-1]\n",
    "    print(filename)\n",
    "\n",
    "    picat_instance = 'graph/picats/' + filename + \".pi\"\n",
    "    if os.path.exists(picat_instance):\n",
    "        continue\n",
    "\n",
    "    print(\"Calc graph\")\n",
    "    graph = MapfGraph(file)\n",
    "    graph.create_graph()\n",
    "    with open(picat_instance, 'w+') as picat_file:\n",
    "        picat_file.write('ins(Graph, As, Avoid, Makespan, SumOfCosts) =>\\n')\n",
    "        picat_file.write('\\tGraph = [')\n",
    "        #    $neibs(1,[1,7]),\n",
    "        graph.write_neibs_to_picat(picat_file) # No longer than 200ms operation (on 256x256 graph)\n",
    "        graph.write_agents_to_picat(picat_file)\n",
    "#         As = [(64,52),(67,65),(65,21),(36,62),(34,6),(108,68),(46,5),(27,110),(105,23),(15,94),(142,88)],\n",
    "#     Avoid = new_array(0,0),\n",
    "#     Makespan = -1,\n",
    "#     SumOfCosts = -1.\n",
    "    break "
   ]
  },
  {
   "cell_type": "code",
   "execution_count": 48,
   "metadata": {},
   "outputs": [
    {
     "data": {
      "text/plain": [
       "[366, 621, 109]"
      ]
     },
     "execution_count": 48,
     "metadata": {},
     "output_type": "execute_result"
    }
   ],
   "source": [
    "neibs[365]"
   ]
  }
 ],
 "metadata": {
  "kernelspec": {
   "display_name": "Python 3",
   "language": "python",
   "name": "python3"
  },
  "language_info": {
   "codemirror_mode": {
    "name": "ipython",
    "version": 3
   },
   "file_extension": ".py",
   "mimetype": "text/x-python",
   "name": "python",
   "nbconvert_exporter": "python",
   "pygments_lexer": "ipython3",
   "version": "3.6.8"
  }
 },
 "nbformat": 4,
 "nbformat_minor": 2
}
