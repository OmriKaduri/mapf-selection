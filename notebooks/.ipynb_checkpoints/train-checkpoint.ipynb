{
 "cells": [
  {
   "cell_type": "code",
   "execution_count": 14,
   "metadata": {},
   "outputs": [],
   "source": [
    "import sys; sys.path.insert(0, '..') #Add upper folder to path"
   ]
  },
  {
   "cell_type": "code",
   "execution_count": 15,
   "metadata": {},
   "outputs": [],
   "source": [
    "from src.preprocess import Preprocess\n",
    "from src.mapf_eda import MapfEDA\n",
    "from src.models.baselines import Baselines\n",
    "from src.models.xgb_reg_model import XGBRegModel\n",
    "from src.models.xgb_clf_model import XGBClfModel\n",
    "import yaml\n",
    "import pandas as pd"
   ]
  },
  {
   "cell_type": "code",
   "execution_count": 16,
   "metadata": {},
   "outputs": [],
   "source": [
    "with open(\"../src/config.yaml\", 'r') as stream:\n",
    "    config = yaml.safe_load(stream)\n",
    "\n",
    "features_cols = config['features']\n",
    "\n",
    "max_runtime = 300000\n",
    "algorithms = config['algorithms']\n",
    "runtime_cols = [algorithm + ' Runtime' for algorithm in algorithms]\n",
    "runtime_cols.append('Y Runtime')"
   ]
  },
  {
   "cell_type": "code",
   "execution_count": 17,
   "metadata": {},
   "outputs": [],
   "source": [
    "preprocess = Preprocess(max_runtime, runtime_cols, features_cols)"
   ]
  },
  {
   "cell_type": "code",
   "execution_count": 18,
   "metadata": {},
   "outputs": [],
   "source": [
    "\n",
    "data_path = '../src/AllData-labelled.csv'\n",
    "df = preprocess.load_labelled_results(data_path, drop_maps=['warehouse'])"
   ]
  },
  {
   "cell_type": "code",
   "execution_count": 19,
   "metadata": {},
   "outputs": [],
   "source": [
    "mapf_eda = MapfEDA(df, runtime_cols)\n",
    "\n",
    "X_train = pd.read_csv('../src/data/from-vpn/splitted/X_train.csv')\n",
    "X_test = pd.read_csv('../src/data/from-vpn/splitted/X_test.csv')\n",
    "y_train = X_train['Y']\n",
    "y_test = X_test['Y']\n"
   ]
  },
  {
   "cell_type": "code",
   "execution_count": 20,
   "metadata": {},
   "outputs": [],
   "source": [
    "baselines = Baselines(X_train, y_train, X_test, y_test, runtime_cols, max_runtime, features_cols)\n",
    "baselines.print_results()"
   ]
  },
  {
   "cell_type": "code",
   "execution_count": 21,
   "metadata": {},
   "outputs": [
    {
     "name": "stdout",
     "output_type": "stream",
     "text": [
      "loaded regression model for astar Runtime from ..\\src\\models\\regression\\astar-reg-model.xgb\n",
      "loaded regression model for macbs Runtime from ..\\src\\models\\regression\\ma-cbs-reg-model.xgb\n",
      "loaded regression model for cbs Runtime from ..\\src\\models\\regression\\basic-cbs-reg-model.xgb\n",
      "loaded regression model for icts Runtime from ..\\src\\models\\regression\\icts-reg-model.xgb\n",
      "loaded regression model for epea Runtime from ..\\src\\models\\regression\\epea-reg-model.xgb\n",
      "loaded regression model for cbsh Runtime from ..\\src\\models\\regression\\cbs-h-reg-model.xgb\n",
      "loaded regression model for sat Runtime from ..\\src\\models\\regression\\sat-reg-model.xgb\n",
      "Regression based classification Accuracy: 0.5317257473052561\n",
      "Regression based classification Coverage: 0.9037670852316924\n",
      "Regression based classification Cumsum: 6343.897687641669\n"
     ]
    }
   ],
   "source": [
    "xgb_reg = XGBRegModel(X_train, y_train, X_test, y_test, runtime_cols, max_runtime, features_cols)\n",
    "xgb_reg.train_cv(load=True, models_dir='../src/models/regression', model_suffix='-reg-model.xgb')\n",
    "reg_test_preds = xgb_reg.print_results()\n",
    "# xgb_reg.plot_feature_importance()\n",
    "X_test['P-Reg Runtime'] = reg_test_preds\n",
    "mapf_eda.add_model_results(reg_test_preds, 'P-Reg Runtime')"
   ]
  },
  {
   "cell_type": "code",
   "execution_count": 26,
   "metadata": {},
   "outputs": [
    {
     "data": {
      "text/plain": [
       "Counter({'macbs Runtime': 759,\n",
       "         'cbsh Runtime': 4826,\n",
       "         'epea Runtime': 714,\n",
       "         'icts Runtime': 367,\n",
       "         'sat Runtime': 2012,\n",
       "         'astar Runtime': 316,\n",
       "         'cbs Runtime': 5})"
      ]
     },
     "execution_count": 26,
     "metadata": {},
     "output_type": "execute_result"
    }
   ],
   "source": [
    "from collections import Counter\n",
    "Counter(reg_test_preds)"
   ]
  },
  {
   "cell_type": "code",
   "execution_count": 10,
   "metadata": {},
   "outputs": [
    {
     "name": "stdout",
     "output_type": "stream",
     "text": [
      "loaded classification model from ..\\src\\models\\clf-model.xgb\n",
      "XGBoost Classification Model  Accuracy: 0.6370574653668548\n",
      "XGBoost Classification Model  Coverage: 0.7035659312467932\n",
      "XGBoost Classification Model  Cumsum: 27257.083565920002\n"
     ]
    }
   ],
   "source": [
    "xgb_clf = XGBClfModel(X_train, y_train, X_test, y_test, runtime_cols, max_runtime, features_cols)\n",
    "xgb_clf.train_cv(load=True, models_dir='../src/models', model_suffix='clf-model.xgb')\n",
    "clf_test_preds = xgb_clf.print_results()\n",
    "# xgb_clf.plot_feature_importance()\n",
    "X_test['P-Clf Runtime'] = clf_test_preds\n",
    "mapf_eda.add_model_results(clf_test_preds, 'P-Clf Runtime')"
   ]
  },
  {
   "cell_type": "code",
   "execution_count": null,
   "metadata": {},
   "outputs": [],
   "source": []
  }
 ],
 "metadata": {
  "kernelspec": {
   "display_name": "Python 3",
   "language": "python",
   "name": "python3"
  },
  "language_info": {
   "codemirror_mode": {
    "name": "ipython",
    "version": 3
   },
   "file_extension": ".py",
   "mimetype": "text/x-python",
   "name": "python",
   "nbconvert_exporter": "python",
   "pygments_lexer": "ipython3",
   "version": "3.6.8"
  }
 },
 "nbformat": 4,
 "nbformat_minor": 2
}
