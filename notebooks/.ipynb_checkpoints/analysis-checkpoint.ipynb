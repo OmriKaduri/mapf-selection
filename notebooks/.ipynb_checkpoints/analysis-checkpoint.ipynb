{
 "cells": [
  {
   "cell_type": "code",
   "execution_count": 141,
   "metadata": {},
   "outputs": [],
   "source": [
    "import sys; sys.path.insert(0, '..') #Add upper folder to path\n",
    "from src.preprocess import Preprocess\n",
    "import matplotlib.pyplot as plt\n",
    "%matplotlib inline\n",
    "import pandas as pd\n",
    "import yaml"
   ]
  },
  {
   "cell_type": "code",
   "execution_count": 220,
   "metadata": {},
   "outputs": [
    {
     "name": "stderr",
     "output_type": "stream",
     "text": [
      "c:\\users\\omri\\appdata\\local\\programs\\python\\python36\\lib\\site-packages\\IPython\\core\\interactiveshell.py:2705: DtypeWarning: Columns (19,20) have mixed types.Specify dtype option on import or set low_memory=False.\n",
      "  interactivity=interactivity, compiler=compiler, result=result)\n"
     ]
    }
   ],
   "source": [
    "with open(\"../src/analysis-config.yaml\", 'r') as stream:\n",
    "    config = yaml.safe_load(stream)\n",
    "\n",
    "features_cols = config['features']\n",
    "cat_features_cols = config['cat_features']\n",
    "max_runtime = config['max_runtime']\n",
    "algorithms = config['algorithms']\n",
    "runtime_cols = [algorithm + ' Runtime' for algorithm in algorithms]\n",
    "only_alg_runtime_cols = runtime_cols.copy()\n",
    "runtime_cols.append('Y Runtime')\n",
    "success_cols = [algorithm + ' Success' for algorithm in algorithms]\n",
    "data_path = '../src/MovingAIData-labelled-with-features.csv'\n",
    "# data_path = '../src/lazy-epea-icts-cbsh-sat-labelled-custom.csv'\n",
    "# data_path = '../src/Alldata-labelled-custom.csv'\n",
    "# data_path = '../src/AllData-labelled-with-features - without cell.csv'\n",
    "unsolved = config['unsolved_problems_only']\n",
    "use_cell_features = config['use_cell_features']\n",
    "\n",
    "df = pd.read_csv(data_path)\n",
    "\n",
    "# drop_maps = None\n",
    "# drop_maps = ['warehouse']\n",
    "\n",
    "# if drop_maps is not None:\n",
    "#     for maptype in drop_maps:\n",
    "#         df = df[~df.GridName.str.contains(maptype)]\n",
    "#     df = df.reset_index(drop=True)"
   ]
  },
  {
   "cell_type": "code",
   "execution_count": 221,
   "metadata": {},
   "outputs": [
    {
     "name": "stderr",
     "output_type": "stream",
     "text": [
      "c:\\users\\omri\\appdata\\local\\programs\\python\\python36\\lib\\site-packages\\IPython\\core\\interactiveshell.py:2809: DtypeWarning: Columns (19,20) have mixed types.Specify dtype option on import or set low_memory=False.\n",
      "  if self.run_code(code, result):\n"
     ]
    },
    {
     "name": "stdout",
     "output_type": "stream",
     "text": [
      "Algorithm statistics for dataframe with 190925 mapf problems\n",
      "             index      Y  BestPercentage\n",
      "0  lazycbs Runtime  79719        0.417541\n",
      "1   cbsh-c Runtime  76277        0.399513\n",
      "2     epea Runtime  24208        0.126793\n",
      "3     icts Runtime  10055        0.052665\n",
      "4      sat Runtime    666        0.003488\n",
      "Choosing the best algorithm each time accuracy: 0.4175409192091135\n",
      "Algorithm statistics for dataframe with 190851 mapf problems\n",
      "             index      Y  BestPercentage\n",
      "0  lazycbs Runtime  79719        0.417703\n",
      "1   cbsh-c Runtime  76277        0.399668\n",
      "2     epea Runtime  24208        0.126842\n",
      "3     icts Runtime   9981        0.052297\n",
      "4      sat Runtime    666        0.003490\n",
      "Choosing the best algorithm each time accuracy: 0.4177028152852225\n",
      "Preprocessing done on dataset with 190851 mapf problems\n"
     ]
    }
   ],
   "source": [
    "preprocess = Preprocess(max_runtime, runtime_cols, features_cols, cat_features_cols, success_cols, use_cell_features)\n",
    "\n",
    "df, features_cols = preprocess.load_labelled_results(data_path, \n",
    "                                                     drop_maps=['room-32-32-8'],\n",
    "                                                     unsolved_filter=unsolved)"
   ]
  },
  {
   "cell_type": "code",
   "execution_count": 471,
   "metadata": {},
   "outputs": [
    {
     "name": "stdout",
     "output_type": "stream",
     "text": [
      "PT cross-sides\n",
      "PT inside-out\n",
      "PT outside-in\n",
      "PT swap-sides\n",
      "PT tight-to-tight\n",
      "PT tight-to-wide\n",
      "PT cross-sides\n",
      "PT inside-out\n",
      "PT outside-in\n",
      "PT swap-sides\n",
      "PT tight-to-tight\n",
      "PT tight-to-wide\n"
     ]
    }
   ],
   "source": [
    "### TO DELETE\n",
    "import xlsxwriter\n",
    "from openpyxl import load_workbook\n",
    "from openpyxl.chart import (\n",
    "    RadarChart,\n",
    "    Reference,\n",
    ")\n",
    "\n",
    "def extract_pt(row):\n",
    "    problem_types = ['cross-sides', 'swap-sides', 'inside-out', 'outside-in', 'tight-to-tight', 'tight-to-wide']\n",
    "    return [row['Model'][row['Model'].find(pt):].split('_')[0] for pt in problem_types if pt in row['Model']][0]\n",
    "\n",
    "def extract_model(row):\n",
    "    return row['Model'][:-(len(row['map_type'])+len(row['problem_type'])+2)]\n",
    "\n",
    "def save_radar_plot(filename,problem_type,accuracy=True):\n",
    "    workbook = load_workbook(filename)\n",
    "    ws = workbook.active\n",
    "    chart = RadarChart()\n",
    "    chart.type = \"standard\"\n",
    "    labels = Reference(ws, min_row=2,max_row=6, min_col=1)\n",
    "    data = Reference(ws, min_col=2, max_col=8, min_row=2, max_row=6)\n",
    "    chart.add_data(data)\n",
    "    chart.set_categories(labels)\n",
    "    chart.style = 10\n",
    "    if accuracy:\n",
    "        chart.title = \"Accuracy, \"+problem_type+',by-type'\n",
    "    else:\n",
    "        chart.title = \"Coverage, \"+problem_type+',by-type'\n",
    "        \n",
    "    chart.y_axis.delete = True\n",
    "\n",
    "    ws.add_chart(chart, \"A17\")\n",
    "    workbook.save(file_name)\n",
    "\n",
    "results_df = pd.read_csv('../src/model-results.csv')\n",
    "#Drop baselines\n",
    "results_df = results_df[~results_df.Model.str.contains(\"baseline\")]\n",
    "results_df = results_df[~results_df.Model.str.contains(\"Oracle\")]\n",
    "\n",
    "results_df['map_type'] = results_df['Model'].str.split('_',expand=True)[1]\n",
    "results_df['model_prefix'] = results_df['Model'].str.split('_',expand=True)[1]\n",
    "results_df['problem_type'] = results_df.apply(extract_pt, axis=1)\n",
    "\n",
    "# results_df.sort_values(by=['map_type','problem_type']).head(20)\n",
    "# results_df.groupby('problem_type').count()\n",
    "# for pt, data in results_df.groupby('problem_type'):\n",
    "#     data.to_csv(\"{}.csv\".format(pt))\n",
    "\n",
    "results_df['real_model'] = results_df.apply(extract_model,axis=1)\n",
    "coverages_df = results_df.copy()[['real_model','Coverage','problem_type','map_type']]\n",
    "accuracy_df = results_df.copy()[['real_model','Accuracy','problem_type','map_type']]\n",
    "models = sorted(set(data.real_model))\n",
    "\n",
    "acc_dict = {}\n",
    "    \n",
    "for pt,data in accuracy_df.groupby('problem_type'):\n",
    "    acc_dict = {'Model':models}\n",
    "    print(\"PT\",pt)\n",
    "    for map_type,data in data.sort_values('real_model').groupby('map_type'):\n",
    "        acc_dict[map_type] = data.Accuracy.values\n",
    "    file_name = 'radar_plots/Accuracy/{}.xlsx'.format(pt)\n",
    "    pd.DataFrame.from_dict(acc_dict).T.to_excel(file_name)\n",
    "    save_radar_plot(file_name, problem_type=pt, accuracy=True)\n",
    "    \n",
    "cov_dict = {}\n",
    "    \n",
    "for pt,data in coverages_df.groupby('problem_type'):\n",
    "    cov_dict = {'Model':models}\n",
    "    print(\"PT\",pt)\n",
    "    for map_type,data in data.sort_values('real_model').groupby('map_type'):\n",
    "        cov_dict[map_type] = data.Coverage.values\n",
    "    file_name = 'radar_plots/Coverage/{}.xlsx'.format(pt)\n",
    "    pd.DataFrame.from_dict(cov_dict).to_excel(file_name,index=False)\n",
    "    save_radar_plot(file_name, problem_type=pt,  accuracy=False)"
   ]
  },
  {
   "cell_type": "code",
   "execution_count": 222,
   "metadata": {},
   "outputs": [],
   "source": [
    "map_path = '../data/from-vpn/maps/'\n",
    "if 'map' not in df.columns:\n",
    "    df['map'] = map_path + df.GridName + '.map'\n",
    "if 'scen' not in df.columns:\n",
    "    if 'problem_type' in df.columns:\n",
    "        df['scen'] = df.apply(\n",
    "            lambda x: x['GridName'] + '-' + x['problem_type'] + '-*' + str(x['InstanceId']) + '.scen',\n",
    "            axis=1)\n",
    "    else:\n",
    "        df['scen'] = df.apply(lambda x: x['GridName'] + '-' + scen_suffix + '-' + str(x['InstanceId']) + '.scen',\n",
    "                              axis=1)"
   ]
  },
  {
   "cell_type": "code",
   "execution_count": 223,
   "metadata": {},
   "outputs": [
    {
     "data": {
      "text/plain": [
       "['icts Success',\n",
       " 'epea Success',\n",
       " 'sat Success',\n",
       " 'cbsh-c Success',\n",
       " 'lazycbs Success']"
      ]
     },
     "execution_count": 223,
     "metadata": {},
     "output_type": "execute_result"
    }
   ],
   "source": [
    "success_cols"
   ]
  },
  {
   "cell_type": "markdown",
   "metadata": {},
   "source": [
    "## Validate all scenarios exist"
   ]
  },
  {
   "cell_type": "code",
   "execution_count": 224,
   "metadata": {},
   "outputs": [],
   "source": [
    "cbsh_scens = set(df[df['cbsh-c Runtime']<300000].groupby(['GridName','problem_type','InstanceId']).count().index)"
   ]
  },
  {
   "cell_type": "code",
   "execution_count": 225,
   "metadata": {},
   "outputs": [],
   "source": [
    "missing_scens = set(df.groupby(['GridName','problem_type','InstanceId']).count().index) - cbsh_scens"
   ]
  },
  {
   "cell_type": "code",
   "execution_count": 226,
   "metadata": {},
   "outputs": [
    {
     "name": "stdout",
     "output_type": "stream",
     "text": [
      "0 missing scens\n"
     ]
    }
   ],
   "source": [
    "import glob\n",
    "i=0\n",
    "from shutil import copyfile\n",
    "for mis_scen in missing_scens:\n",
    "    scen = list(mis_scen)\n",
    "    scen[1] = scen[1]+'*'\n",
    "    scen[2] = str(scen[2])+'*'\n",
    "    scen_regex = '../data/from-vpn/scen/scen-custom/'+'-'.join([str(a) for a in scen])\n",
    "    scen_file = list(glob.glob(scen_regex))\n",
    "    if len(scen_file)==1:\n",
    "        scen_file = scen_file[0]\n",
    "        print(scen_file)\n",
    "        output_file = 'missing/'+scen_file.split('\\\\')[1]\n",
    "        i+=1\n",
    "#     copyfile(scen_file,output_file)\n",
    "print(f'{i} missing scens')"
   ]
  },
  {
   "cell_type": "code",
   "execution_count": 227,
   "metadata": {},
   "outputs": [
    {
     "data": {
      "text/html": [
       "<div>\n",
       "<style scoped>\n",
       "    .dataframe tbody tr th:only-of-type {\n",
       "        vertical-align: middle;\n",
       "    }\n",
       "\n",
       "    .dataframe tbody tr th {\n",
       "        vertical-align: top;\n",
       "    }\n",
       "\n",
       "    .dataframe thead th {\n",
       "        text-align: right;\n",
       "    }\n",
       "</style>\n",
       "<table border=\"1\" class=\"dataframe\">\n",
       "  <thead>\n",
       "    <tr style=\"text-align: right;\">\n",
       "      <th></th>\n",
       "      <th>icts Runtime</th>\n",
       "      <th>epea Runtime</th>\n",
       "      <th>sat Runtime</th>\n",
       "      <th>cbsh-c Runtime</th>\n",
       "      <th>lazycbs Runtime</th>\n",
       "      <th>NumOfAgents</th>\n",
       "      <th>problem_type</th>\n",
       "    </tr>\n",
       "  </thead>\n",
       "  <tbody>\n",
       "  </tbody>\n",
       "</table>\n",
       "</div>"
      ],
      "text/plain": [
       "Empty DataFrame\n",
       "Columns: [icts Runtime, epea Runtime, sat Runtime, cbsh-c Runtime, lazycbs Runtime, NumOfAgents, problem_type]\n",
       "Index: []"
      ]
     },
     "execution_count": 227,
     "metadata": {},
     "output_type": "execute_result"
    }
   ],
   "source": [
    "df[(df.GridName=='Paris_1_256')&(df.InstanceId==2)&(df.problem_type=='swap-sides')][only_alg_runtime_cols + ['NumOfAgents','problem_type']]"
   ]
  },
  {
   "cell_type": "code",
   "execution_count": 228,
   "metadata": {},
   "outputs": [],
   "source": [
    "# assert (df.groupby(['GridName','InstanceId','NumOfAgents','problem_type']).size().max()==1), \"not unique!\""
   ]
  },
  {
   "cell_type": "markdown",
   "metadata": {},
   "source": [
    "### How many problems solved by only one solver? ###"
   ]
  },
  {
   "cell_type": "code",
   "execution_count": 229,
   "metadata": {},
   "outputs": [],
   "source": [
    "df['SolvesFinishedCount'] = df[success_cols].sum(axis=1)"
   ]
  },
  {
   "cell_type": "code",
   "execution_count": 230,
   "metadata": {},
   "outputs": [
    {
     "name": "stdout",
     "output_type": "stream",
     "text": [
      "0.1544188922248246 of the problems solved by only one solver!\n"
     ]
    }
   ],
   "source": [
    "print(\"{n} of the problems solved by only one solver!\".format(n=len(df[df['SolvesFinishedCount']==1])/len(df)))"
   ]
  },
  {
   "cell_type": "code",
   "execution_count": 231,
   "metadata": {},
   "outputs": [
    {
     "data": {
      "text/html": [
       "<div>\n",
       "<style scoped>\n",
       "    .dataframe tbody tr th:only-of-type {\n",
       "        vertical-align: middle;\n",
       "    }\n",
       "\n",
       "    .dataframe tbody tr th {\n",
       "        vertical-align: top;\n",
       "    }\n",
       "\n",
       "    .dataframe thead th {\n",
       "        text-align: right;\n",
       "    }\n",
       "</style>\n",
       "<table border=\"1\" class=\"dataframe\">\n",
       "  <thead>\n",
       "    <tr style=\"text-align: right;\">\n",
       "      <th></th>\n",
       "      <th>GridName</th>\n",
       "      <th>InstanceId</th>\n",
       "      <th>sat Success</th>\n",
       "      <th>icts Runtime</th>\n",
       "      <th>GridColumns</th>\n",
       "      <th>GridRows</th>\n",
       "      <th>cbsh-c Runtime</th>\n",
       "      <th>lazycbs Runtime</th>\n",
       "      <th>epea Success</th>\n",
       "      <th>sat Runtime</th>\n",
       "      <th>...</th>\n",
       "      <th>maptype</th>\n",
       "      <th>maptype_city</th>\n",
       "      <th>maptype_empty</th>\n",
       "      <th>maptype_game</th>\n",
       "      <th>maptype_maze</th>\n",
       "      <th>maptype_random</th>\n",
       "      <th>maptype_room</th>\n",
       "      <th>maptype_warehouse</th>\n",
       "      <th>Y_code</th>\n",
       "      <th>SolvesFinishedCount</th>\n",
       "    </tr>\n",
       "  </thead>\n",
       "  <tbody>\n",
       "    <tr>\n",
       "      <th>285</th>\n",
       "      <td>Berlin_1_256</td>\n",
       "      <td>2</td>\n",
       "      <td>0</td>\n",
       "      <td>300000.0</td>\n",
       "      <td>256.0</td>\n",
       "      <td>256.0</td>\n",
       "      <td>237701.0</td>\n",
       "      <td>300000.0</td>\n",
       "      <td>0</td>\n",
       "      <td>300000.0</td>\n",
       "      <td>...</td>\n",
       "      <td>city</td>\n",
       "      <td>1</td>\n",
       "      <td>0</td>\n",
       "      <td>0</td>\n",
       "      <td>0</td>\n",
       "      <td>0</td>\n",
       "      <td>0</td>\n",
       "      <td>0</td>\n",
       "      <td>3</td>\n",
       "      <td>1</td>\n",
       "    </tr>\n",
       "    <tr>\n",
       "      <th>286</th>\n",
       "      <td>Berlin_1_256</td>\n",
       "      <td>2</td>\n",
       "      <td>0</td>\n",
       "      <td>300000.0</td>\n",
       "      <td>256.0</td>\n",
       "      <td>256.0</td>\n",
       "      <td>242287.0</td>\n",
       "      <td>300000.0</td>\n",
       "      <td>0</td>\n",
       "      <td>300000.0</td>\n",
       "      <td>...</td>\n",
       "      <td>city</td>\n",
       "      <td>1</td>\n",
       "      <td>0</td>\n",
       "      <td>0</td>\n",
       "      <td>0</td>\n",
       "      <td>0</td>\n",
       "      <td>0</td>\n",
       "      <td>0</td>\n",
       "      <td>3</td>\n",
       "      <td>1</td>\n",
       "    </tr>\n",
       "    <tr>\n",
       "      <th>287</th>\n",
       "      <td>Berlin_1_256</td>\n",
       "      <td>2</td>\n",
       "      <td>0</td>\n",
       "      <td>300000.0</td>\n",
       "      <td>256.0</td>\n",
       "      <td>256.0</td>\n",
       "      <td>245606.0</td>\n",
       "      <td>300000.0</td>\n",
       "      <td>0</td>\n",
       "      <td>300000.0</td>\n",
       "      <td>...</td>\n",
       "      <td>city</td>\n",
       "      <td>1</td>\n",
       "      <td>0</td>\n",
       "      <td>0</td>\n",
       "      <td>0</td>\n",
       "      <td>0</td>\n",
       "      <td>0</td>\n",
       "      <td>0</td>\n",
       "      <td>3</td>\n",
       "      <td>1</td>\n",
       "    </tr>\n",
       "    <tr>\n",
       "      <th>288</th>\n",
       "      <td>Berlin_1_256</td>\n",
       "      <td>2</td>\n",
       "      <td>0</td>\n",
       "      <td>300000.0</td>\n",
       "      <td>256.0</td>\n",
       "      <td>256.0</td>\n",
       "      <td>250352.0</td>\n",
       "      <td>300000.0</td>\n",
       "      <td>0</td>\n",
       "      <td>300000.0</td>\n",
       "      <td>...</td>\n",
       "      <td>city</td>\n",
       "      <td>1</td>\n",
       "      <td>0</td>\n",
       "      <td>0</td>\n",
       "      <td>0</td>\n",
       "      <td>0</td>\n",
       "      <td>0</td>\n",
       "      <td>0</td>\n",
       "      <td>3</td>\n",
       "      <td>1</td>\n",
       "    </tr>\n",
       "    <tr>\n",
       "      <th>289</th>\n",
       "      <td>Berlin_1_256</td>\n",
       "      <td>2</td>\n",
       "      <td>0</td>\n",
       "      <td>300000.0</td>\n",
       "      <td>256.0</td>\n",
       "      <td>256.0</td>\n",
       "      <td>239144.0</td>\n",
       "      <td>300000.0</td>\n",
       "      <td>0</td>\n",
       "      <td>300000.0</td>\n",
       "      <td>...</td>\n",
       "      <td>city</td>\n",
       "      <td>1</td>\n",
       "      <td>0</td>\n",
       "      <td>0</td>\n",
       "      <td>0</td>\n",
       "      <td>0</td>\n",
       "      <td>0</td>\n",
       "      <td>0</td>\n",
       "      <td>3</td>\n",
       "      <td>1</td>\n",
       "    </tr>\n",
       "    <tr>\n",
       "      <th>...</th>\n",
       "      <td>...</td>\n",
       "      <td>...</td>\n",
       "      <td>...</td>\n",
       "      <td>...</td>\n",
       "      <td>...</td>\n",
       "      <td>...</td>\n",
       "      <td>...</td>\n",
       "      <td>...</td>\n",
       "      <td>...</td>\n",
       "      <td>...</td>\n",
       "      <td>...</td>\n",
       "      <td>...</td>\n",
       "      <td>...</td>\n",
       "      <td>...</td>\n",
       "      <td>...</td>\n",
       "      <td>...</td>\n",
       "      <td>...</td>\n",
       "      <td>...</td>\n",
       "      <td>...</td>\n",
       "      <td>...</td>\n",
       "      <td>...</td>\n",
       "    </tr>\n",
       "    <tr>\n",
       "      <th>190156</th>\n",
       "      <td>warehouse-20-40-10-2-2</td>\n",
       "      <td>21</td>\n",
       "      <td>0</td>\n",
       "      <td>300000.0</td>\n",
       "      <td>340.0</td>\n",
       "      <td>164.0</td>\n",
       "      <td>60000.0</td>\n",
       "      <td>300000.0</td>\n",
       "      <td>0</td>\n",
       "      <td>300000.0</td>\n",
       "      <td>...</td>\n",
       "      <td>warehouse</td>\n",
       "      <td>0</td>\n",
       "      <td>0</td>\n",
       "      <td>0</td>\n",
       "      <td>0</td>\n",
       "      <td>0</td>\n",
       "      <td>0</td>\n",
       "      <td>1</td>\n",
       "      <td>3</td>\n",
       "      <td>1</td>\n",
       "    </tr>\n",
       "    <tr>\n",
       "      <th>190283</th>\n",
       "      <td>warehouse-20-40-10-2-2</td>\n",
       "      <td>22</td>\n",
       "      <td>0</td>\n",
       "      <td>300000.0</td>\n",
       "      <td>340.0</td>\n",
       "      <td>164.0</td>\n",
       "      <td>60000.0</td>\n",
       "      <td>300000.0</td>\n",
       "      <td>0</td>\n",
       "      <td>300000.0</td>\n",
       "      <td>...</td>\n",
       "      <td>warehouse</td>\n",
       "      <td>0</td>\n",
       "      <td>0</td>\n",
       "      <td>0</td>\n",
       "      <td>0</td>\n",
       "      <td>0</td>\n",
       "      <td>0</td>\n",
       "      <td>1</td>\n",
       "      <td>3</td>\n",
       "      <td>1</td>\n",
       "    </tr>\n",
       "    <tr>\n",
       "      <th>190469</th>\n",
       "      <td>warehouse-20-40-10-2-2</td>\n",
       "      <td>23</td>\n",
       "      <td>0</td>\n",
       "      <td>300000.0</td>\n",
       "      <td>340.0</td>\n",
       "      <td>164.0</td>\n",
       "      <td>60000.0</td>\n",
       "      <td>300000.0</td>\n",
       "      <td>0</td>\n",
       "      <td>300000.0</td>\n",
       "      <td>...</td>\n",
       "      <td>warehouse</td>\n",
       "      <td>0</td>\n",
       "      <td>0</td>\n",
       "      <td>0</td>\n",
       "      <td>0</td>\n",
       "      <td>0</td>\n",
       "      <td>0</td>\n",
       "      <td>1</td>\n",
       "      <td>3</td>\n",
       "      <td>1</td>\n",
       "    </tr>\n",
       "    <tr>\n",
       "      <th>190640</th>\n",
       "      <td>warehouse-20-40-10-2-2</td>\n",
       "      <td>24</td>\n",
       "      <td>0</td>\n",
       "      <td>300000.0</td>\n",
       "      <td>340.0</td>\n",
       "      <td>164.0</td>\n",
       "      <td>60000.0</td>\n",
       "      <td>300000.0</td>\n",
       "      <td>0</td>\n",
       "      <td>300000.0</td>\n",
       "      <td>...</td>\n",
       "      <td>warehouse</td>\n",
       "      <td>0</td>\n",
       "      <td>0</td>\n",
       "      <td>0</td>\n",
       "      <td>0</td>\n",
       "      <td>0</td>\n",
       "      <td>0</td>\n",
       "      <td>1</td>\n",
       "      <td>3</td>\n",
       "      <td>1</td>\n",
       "    </tr>\n",
       "    <tr>\n",
       "      <th>190850</th>\n",
       "      <td>warehouse-20-40-10-2-2</td>\n",
       "      <td>25</td>\n",
       "      <td>0</td>\n",
       "      <td>300000.0</td>\n",
       "      <td>340.0</td>\n",
       "      <td>164.0</td>\n",
       "      <td>60000.0</td>\n",
       "      <td>300000.0</td>\n",
       "      <td>0</td>\n",
       "      <td>300000.0</td>\n",
       "      <td>...</td>\n",
       "      <td>warehouse</td>\n",
       "      <td>0</td>\n",
       "      <td>0</td>\n",
       "      <td>0</td>\n",
       "      <td>0</td>\n",
       "      <td>0</td>\n",
       "      <td>0</td>\n",
       "      <td>1</td>\n",
       "      <td>3</td>\n",
       "      <td>1</td>\n",
       "    </tr>\n",
       "  </tbody>\n",
       "</table>\n",
       "<p>29471 rows × 49 columns</p>\n",
       "</div>"
      ],
      "text/plain": [
       "                      GridName  InstanceId  sat Success  icts Runtime  \\\n",
       "285               Berlin_1_256           2            0      300000.0   \n",
       "286               Berlin_1_256           2            0      300000.0   \n",
       "287               Berlin_1_256           2            0      300000.0   \n",
       "288               Berlin_1_256           2            0      300000.0   \n",
       "289               Berlin_1_256           2            0      300000.0   \n",
       "...                        ...         ...          ...           ...   \n",
       "190156  warehouse-20-40-10-2-2          21            0      300000.0   \n",
       "190283  warehouse-20-40-10-2-2          22            0      300000.0   \n",
       "190469  warehouse-20-40-10-2-2          23            0      300000.0   \n",
       "190640  warehouse-20-40-10-2-2          24            0      300000.0   \n",
       "190850  warehouse-20-40-10-2-2          25            0      300000.0   \n",
       "\n",
       "        GridColumns  GridRows  cbsh-c Runtime  lazycbs Runtime  epea Success  \\\n",
       "285           256.0     256.0        237701.0         300000.0             0   \n",
       "286           256.0     256.0        242287.0         300000.0             0   \n",
       "287           256.0     256.0        245606.0         300000.0             0   \n",
       "288           256.0     256.0        250352.0         300000.0             0   \n",
       "289           256.0     256.0        239144.0         300000.0             0   \n",
       "...             ...       ...             ...              ...           ...   \n",
       "190156        340.0     164.0         60000.0         300000.0             0   \n",
       "190283        340.0     164.0         60000.0         300000.0             0   \n",
       "190469        340.0     164.0         60000.0         300000.0             0   \n",
       "190640        340.0     164.0         60000.0         300000.0             0   \n",
       "190850        340.0     164.0         60000.0         300000.0             0   \n",
       "\n",
       "        sat Runtime  ...    maptype  maptype_city  maptype_empty maptype_game  \\\n",
       "285        300000.0  ...       city             1              0            0   \n",
       "286        300000.0  ...       city             1              0            0   \n",
       "287        300000.0  ...       city             1              0            0   \n",
       "288        300000.0  ...       city             1              0            0   \n",
       "289        300000.0  ...       city             1              0            0   \n",
       "...             ...  ...        ...           ...            ...          ...   \n",
       "190156     300000.0  ...  warehouse             0              0            0   \n",
       "190283     300000.0  ...  warehouse             0              0            0   \n",
       "190469     300000.0  ...  warehouse             0              0            0   \n",
       "190640     300000.0  ...  warehouse             0              0            0   \n",
       "190850     300000.0  ...  warehouse             0              0            0   \n",
       "\n",
       "        maptype_maze  maptype_random  maptype_room  maptype_warehouse  Y_code  \\\n",
       "285                0               0             0                  0       3   \n",
       "286                0               0             0                  0       3   \n",
       "287                0               0             0                  0       3   \n",
       "288                0               0             0                  0       3   \n",
       "289                0               0             0                  0       3   \n",
       "...              ...             ...           ...                ...     ...   \n",
       "190156             0               0             0                  1       3   \n",
       "190283             0               0             0                  1       3   \n",
       "190469             0               0             0                  1       3   \n",
       "190640             0               0             0                  1       3   \n",
       "190850             0               0             0                  1       3   \n",
       "\n",
       "       SolvesFinishedCount  \n",
       "285                      1  \n",
       "286                      1  \n",
       "287                      1  \n",
       "288                      1  \n",
       "289                      1  \n",
       "...                    ...  \n",
       "190156                   1  \n",
       "190283                   1  \n",
       "190469                   1  \n",
       "190640                   1  \n",
       "190850                   1  \n",
       "\n",
       "[29471 rows x 49 columns]"
      ]
     },
     "execution_count": 231,
     "metadata": {},
     "output_type": "execute_result"
    }
   ],
   "source": [
    "df[df['SolvesFinishedCount']==1]"
   ]
  },
  {
   "cell_type": "code",
   "execution_count": 232,
   "metadata": {},
   "outputs": [],
   "source": [
    "df = df[df['SolvesFinishedCount']<len(success_cols)]\n",
    "df = df.reset_index()"
   ]
  },
  {
   "cell_type": "code",
   "execution_count": 233,
   "metadata": {},
   "outputs": [],
   "source": [
    "# df[(df['cbsh Success']==0)&(df['cbsh-c Success']==1)][['NumOfAgents','GridName','InstanceId']]"
   ]
  },
  {
   "cell_type": "markdown",
   "metadata": {},
   "source": [
    "### What is the maximum number of agents solved for each map? ###\n",
    "\n",
    "Note: A map is a combination of an instance and the grid."
   ]
  },
  {
   "cell_type": "code",
   "execution_count": 234,
   "metadata": {
    "scrolled": true
   },
   "outputs": [],
   "source": [
    "max_agents_for_each_map_row_idxs = df.groupby(['GridName','InstanceId'])['NumOfAgents'].idxmax()"
   ]
  },
  {
   "cell_type": "code",
   "execution_count": 235,
   "metadata": {},
   "outputs": [
    {
     "data": {
      "text/plain": [
       "117816"
      ]
     },
     "execution_count": 235,
     "metadata": {},
     "output_type": "execute_result"
    }
   ],
   "source": [
    "len(df)"
   ]
  },
  {
   "cell_type": "code",
   "execution_count": 236,
   "metadata": {},
   "outputs": [
    {
     "data": {
      "text/html": [
       "<div>\n",
       "<style scoped>\n",
       "    .dataframe tbody tr th:only-of-type {\n",
       "        vertical-align: middle;\n",
       "    }\n",
       "\n",
       "    .dataframe tbody tr th {\n",
       "        vertical-align: top;\n",
       "    }\n",
       "\n",
       "    .dataframe thead th {\n",
       "        text-align: right;\n",
       "    }\n",
       "</style>\n",
       "<table border=\"1\" class=\"dataframe\">\n",
       "  <thead>\n",
       "    <tr style=\"text-align: right;\">\n",
       "      <th></th>\n",
       "      <th>NumOfAgents</th>\n",
       "      <th>Y</th>\n",
       "      <th>GridName</th>\n",
       "      <th>InstanceId</th>\n",
       "      <th>icts Success</th>\n",
       "      <th>epea Success</th>\n",
       "      <th>sat Success</th>\n",
       "      <th>cbsh-c Success</th>\n",
       "      <th>lazycbs Success</th>\n",
       "    </tr>\n",
       "  </thead>\n",
       "  <tbody>\n",
       "    <tr>\n",
       "      <th>115025</th>\n",
       "      <td>498</td>\n",
       "      <td>cbsh-c Runtime</td>\n",
       "      <td>warehouse-20-40-10-2-2</td>\n",
       "      <td>11</td>\n",
       "      <td>0</td>\n",
       "      <td>0</td>\n",
       "      <td>0</td>\n",
       "      <td>1</td>\n",
       "      <td>0</td>\n",
       "    </tr>\n",
       "    <tr>\n",
       "      <th>113527</th>\n",
       "      <td>493</td>\n",
       "      <td>cbsh-c Runtime</td>\n",
       "      <td>warehouse-20-40-10-2-2</td>\n",
       "      <td>4</td>\n",
       "      <td>0</td>\n",
       "      <td>0</td>\n",
       "      <td>0</td>\n",
       "      <td>1</td>\n",
       "      <td>0</td>\n",
       "    </tr>\n",
       "    <tr>\n",
       "      <th>115350</th>\n",
       "      <td>469</td>\n",
       "      <td>cbsh-c Runtime</td>\n",
       "      <td>warehouse-20-40-10-2-2</td>\n",
       "      <td>12</td>\n",
       "      <td>0</td>\n",
       "      <td>0</td>\n",
       "      <td>0</td>\n",
       "      <td>1</td>\n",
       "      <td>0</td>\n",
       "    </tr>\n",
       "    <tr>\n",
       "      <th>113754</th>\n",
       "      <td>460</td>\n",
       "      <td>cbsh-c Runtime</td>\n",
       "      <td>warehouse-20-40-10-2-2</td>\n",
       "      <td>5</td>\n",
       "      <td>0</td>\n",
       "      <td>0</td>\n",
       "      <td>0</td>\n",
       "      <td>1</td>\n",
       "      <td>0</td>\n",
       "    </tr>\n",
       "    <tr>\n",
       "      <th>113977</th>\n",
       "      <td>454</td>\n",
       "      <td>cbsh-c Runtime</td>\n",
       "      <td>warehouse-20-40-10-2-2</td>\n",
       "      <td>6</td>\n",
       "      <td>0</td>\n",
       "      <td>0</td>\n",
       "      <td>0</td>\n",
       "      <td>1</td>\n",
       "      <td>0</td>\n",
       "    </tr>\n",
       "    <tr>\n",
       "      <th>117145</th>\n",
       "      <td>432</td>\n",
       "      <td>cbsh-c Runtime</td>\n",
       "      <td>warehouse-20-40-10-2-2</td>\n",
       "      <td>21</td>\n",
       "      <td>0</td>\n",
       "      <td>0</td>\n",
       "      <td>0</td>\n",
       "      <td>1</td>\n",
       "      <td>0</td>\n",
       "    </tr>\n",
       "    <tr>\n",
       "      <th>113247</th>\n",
       "      <td>426</td>\n",
       "      <td>cbsh-c Runtime</td>\n",
       "      <td>warehouse-20-40-10-2-2</td>\n",
       "      <td>3</td>\n",
       "      <td>0</td>\n",
       "      <td>0</td>\n",
       "      <td>0</td>\n",
       "      <td>1</td>\n",
       "      <td>0</td>\n",
       "    </tr>\n",
       "    <tr>\n",
       "      <th>115938</th>\n",
       "      <td>415</td>\n",
       "      <td>cbsh-c Runtime</td>\n",
       "      <td>warehouse-20-40-10-2-2</td>\n",
       "      <td>15</td>\n",
       "      <td>0</td>\n",
       "      <td>0</td>\n",
       "      <td>0</td>\n",
       "      <td>1</td>\n",
       "      <td>0</td>\n",
       "    </tr>\n",
       "    <tr>\n",
       "      <th>105572</th>\n",
       "      <td>414</td>\n",
       "      <td>cbsh-c Runtime</td>\n",
       "      <td>warehouse-10-20-10-2-2</td>\n",
       "      <td>4</td>\n",
       "      <td>0</td>\n",
       "      <td>0</td>\n",
       "      <td>0</td>\n",
       "      <td>1</td>\n",
       "      <td>0</td>\n",
       "    </tr>\n",
       "    <tr>\n",
       "      <th>116322</th>\n",
       "      <td>411</td>\n",
       "      <td>cbsh-c Runtime</td>\n",
       "      <td>warehouse-20-40-10-2-2</td>\n",
       "      <td>17</td>\n",
       "      <td>0</td>\n",
       "      <td>0</td>\n",
       "      <td>0</td>\n",
       "      <td>1</td>\n",
       "      <td>0</td>\n",
       "    </tr>\n",
       "    <tr>\n",
       "      <th>116535</th>\n",
       "      <td>411</td>\n",
       "      <td>cbsh-c Runtime</td>\n",
       "      <td>warehouse-20-40-10-2-2</td>\n",
       "      <td>18</td>\n",
       "      <td>0</td>\n",
       "      <td>0</td>\n",
       "      <td>0</td>\n",
       "      <td>1</td>\n",
       "      <td>0</td>\n",
       "    </tr>\n",
       "    <tr>\n",
       "      <th>112852</th>\n",
       "      <td>403</td>\n",
       "      <td>cbsh-c Runtime</td>\n",
       "      <td>warehouse-20-40-10-2-2</td>\n",
       "      <td>1</td>\n",
       "      <td>0</td>\n",
       "      <td>0</td>\n",
       "      <td>0</td>\n",
       "      <td>1</td>\n",
       "      <td>0</td>\n",
       "    </tr>\n",
       "    <tr>\n",
       "      <th>116906</th>\n",
       "      <td>400</td>\n",
       "      <td>cbsh-c Runtime</td>\n",
       "      <td>warehouse-20-40-10-2-2</td>\n",
       "      <td>20</td>\n",
       "      <td>0</td>\n",
       "      <td>0</td>\n",
       "      <td>0</td>\n",
       "      <td>1</td>\n",
       "      <td>0</td>\n",
       "    </tr>\n",
       "    <tr>\n",
       "      <th>54309</th>\n",
       "      <td>396</td>\n",
       "      <td>lazycbs Runtime</td>\n",
       "      <td>warehouse-20-40-10-2-2</td>\n",
       "      <td>13</td>\n",
       "      <td>0</td>\n",
       "      <td>0</td>\n",
       "      <td>0</td>\n",
       "      <td>0</td>\n",
       "      <td>1</td>\n",
       "    </tr>\n",
       "    <tr>\n",
       "      <th>114744</th>\n",
       "      <td>395</td>\n",
       "      <td>cbsh-c Runtime</td>\n",
       "      <td>warehouse-20-40-10-2-2</td>\n",
       "      <td>10</td>\n",
       "      <td>0</td>\n",
       "      <td>0</td>\n",
       "      <td>0</td>\n",
       "      <td>1</td>\n",
       "      <td>0</td>\n",
       "    </tr>\n",
       "    <tr>\n",
       "      <th>116124</th>\n",
       "      <td>392</td>\n",
       "      <td>cbsh-c Runtime</td>\n",
       "      <td>warehouse-20-40-10-2-2</td>\n",
       "      <td>16</td>\n",
       "      <td>0</td>\n",
       "      <td>0</td>\n",
       "      <td>0</td>\n",
       "      <td>1</td>\n",
       "      <td>0</td>\n",
       "    </tr>\n",
       "    <tr>\n",
       "      <th>56934</th>\n",
       "      <td>390</td>\n",
       "      <td>lazycbs Runtime</td>\n",
       "      <td>warehouse-20-40-10-2-2</td>\n",
       "      <td>25</td>\n",
       "      <td>0</td>\n",
       "      <td>0</td>\n",
       "      <td>0</td>\n",
       "      <td>0</td>\n",
       "      <td>1</td>\n",
       "    </tr>\n",
       "    <tr>\n",
       "      <th>108100</th>\n",
       "      <td>389</td>\n",
       "      <td>cbsh-c Runtime</td>\n",
       "      <td>warehouse-10-20-10-2-2</td>\n",
       "      <td>15</td>\n",
       "      <td>0</td>\n",
       "      <td>0</td>\n",
       "      <td>0</td>\n",
       "      <td>1</td>\n",
       "      <td>0</td>\n",
       "    </tr>\n",
       "    <tr>\n",
       "      <th>53371</th>\n",
       "      <td>389</td>\n",
       "      <td>lazycbs Runtime</td>\n",
       "      <td>warehouse-20-40-10-2-2</td>\n",
       "      <td>8</td>\n",
       "      <td>0</td>\n",
       "      <td>0</td>\n",
       "      <td>0</td>\n",
       "      <td>0</td>\n",
       "      <td>1</td>\n",
       "    </tr>\n",
       "    <tr>\n",
       "      <th>114167</th>\n",
       "      <td>386</td>\n",
       "      <td>cbsh-c Runtime</td>\n",
       "      <td>warehouse-20-40-10-2-2</td>\n",
       "      <td>7</td>\n",
       "      <td>0</td>\n",
       "      <td>0</td>\n",
       "      <td>0</td>\n",
       "      <td>1</td>\n",
       "      <td>0</td>\n",
       "    </tr>\n",
       "  </tbody>\n",
       "</table>\n",
       "</div>"
      ],
      "text/plain": [
       "        NumOfAgents                Y                GridName  InstanceId  \\\n",
       "115025          498   cbsh-c Runtime  warehouse-20-40-10-2-2          11   \n",
       "113527          493   cbsh-c Runtime  warehouse-20-40-10-2-2           4   \n",
       "115350          469   cbsh-c Runtime  warehouse-20-40-10-2-2          12   \n",
       "113754          460   cbsh-c Runtime  warehouse-20-40-10-2-2           5   \n",
       "113977          454   cbsh-c Runtime  warehouse-20-40-10-2-2           6   \n",
       "117145          432   cbsh-c Runtime  warehouse-20-40-10-2-2          21   \n",
       "113247          426   cbsh-c Runtime  warehouse-20-40-10-2-2           3   \n",
       "115938          415   cbsh-c Runtime  warehouse-20-40-10-2-2          15   \n",
       "105572          414   cbsh-c Runtime  warehouse-10-20-10-2-2           4   \n",
       "116322          411   cbsh-c Runtime  warehouse-20-40-10-2-2          17   \n",
       "116535          411   cbsh-c Runtime  warehouse-20-40-10-2-2          18   \n",
       "112852          403   cbsh-c Runtime  warehouse-20-40-10-2-2           1   \n",
       "116906          400   cbsh-c Runtime  warehouse-20-40-10-2-2          20   \n",
       "54309           396  lazycbs Runtime  warehouse-20-40-10-2-2          13   \n",
       "114744          395   cbsh-c Runtime  warehouse-20-40-10-2-2          10   \n",
       "116124          392   cbsh-c Runtime  warehouse-20-40-10-2-2          16   \n",
       "56934           390  lazycbs Runtime  warehouse-20-40-10-2-2          25   \n",
       "108100          389   cbsh-c Runtime  warehouse-10-20-10-2-2          15   \n",
       "53371           389  lazycbs Runtime  warehouse-20-40-10-2-2           8   \n",
       "114167          386   cbsh-c Runtime  warehouse-20-40-10-2-2           7   \n",
       "\n",
       "        icts Success  epea Success  sat Success  cbsh-c Success  \\\n",
       "115025             0             0            0               1   \n",
       "113527             0             0            0               1   \n",
       "115350             0             0            0               1   \n",
       "113754             0             0            0               1   \n",
       "113977             0             0            0               1   \n",
       "117145             0             0            0               1   \n",
       "113247             0             0            0               1   \n",
       "115938             0             0            0               1   \n",
       "105572             0             0            0               1   \n",
       "116322             0             0            0               1   \n",
       "116535             0             0            0               1   \n",
       "112852             0             0            0               1   \n",
       "116906             0             0            0               1   \n",
       "54309              0             0            0               0   \n",
       "114744             0             0            0               1   \n",
       "116124             0             0            0               1   \n",
       "56934              0             0            0               0   \n",
       "108100             0             0            0               1   \n",
       "53371              0             0            0               0   \n",
       "114167             0             0            0               1   \n",
       "\n",
       "        lazycbs Success  \n",
       "115025                0  \n",
       "113527                0  \n",
       "115350                0  \n",
       "113754                0  \n",
       "113977                0  \n",
       "117145                0  \n",
       "113247                0  \n",
       "115938                0  \n",
       "105572                0  \n",
       "116322                0  \n",
       "116535                0  \n",
       "112852                0  \n",
       "116906                0  \n",
       "54309                 1  \n",
       "114744                0  \n",
       "116124                0  \n",
       "56934                 1  \n",
       "108100                0  \n",
       "53371                 1  \n",
       "114167                0  "
      ]
     },
     "execution_count": 236,
     "metadata": {},
     "output_type": "execute_result"
    }
   ],
   "source": [
    "winners_df = df.iloc[max_agents_for_each_map_row_idxs.values][['NumOfAgents','Y','GridName','InstanceId']+success_cols]\n",
    "winners_df.sort_values(['NumOfAgents'], ascending=False).head(20)"
   ]
  },
  {
   "cell_type": "markdown",
   "metadata": {},
   "source": [
    "### How many maps each solver solved alone? (i.e. gain in coverage) ###"
   ]
  },
  {
   "cell_type": "code",
   "execution_count": 237,
   "metadata": {},
   "outputs": [
    {
     "data": {
      "text/plain": [
       "lazycbs Runtime    26726\n",
       "cbsh-c Runtime      2147\n",
       "epea Runtime         442\n",
       "sat Runtime          155\n",
       "icts Runtime           1\n",
       "Name: Y, dtype: int64"
      ]
     },
     "execution_count": 237,
     "metadata": {},
     "output_type": "execute_result"
    }
   ],
   "source": [
    "df[df['SolvesFinishedCount']==1]['Y'].value_counts()"
   ]
  },
  {
   "cell_type": "code",
   "execution_count": 238,
   "metadata": {},
   "outputs": [
    {
     "data": {
      "text/plain": [
       "GridName                Y              \n",
       "Berlin_1_256            cbsh-c Runtime       42\n",
       "                        epea Runtime         98\n",
       "                        lazycbs Runtime     945\n",
       "Boston_0_256            cbsh-c Runtime       72\n",
       "                        epea Runtime          1\n",
       "                                           ... \n",
       "warehouse-20-40-10-2-1  cbsh-c Runtime       25\n",
       "                        lazycbs Runtime    1823\n",
       "warehouse-20-40-10-2-2  cbsh-c Runtime       25\n",
       "                        epea Runtime         69\n",
       "                        lazycbs Runtime    2515\n",
       "Name: index, Length: 80, dtype: int64"
      ]
     },
     "execution_count": 238,
     "metadata": {},
     "output_type": "execute_result"
    }
   ],
   "source": [
    "import matplotlib.pyplot as plt\n",
    "%matplotlib inline\n",
    "df[df['SolvesFinishedCount']==1].groupby(['GridName','Y'])[\"index\"].count()"
   ]
  },
  {
   "cell_type": "code",
   "execution_count": 239,
   "metadata": {},
   "outputs": [
    {
     "data": {
      "text/html": [
       "<div>\n",
       "<style scoped>\n",
       "    .dataframe tbody tr th:only-of-type {\n",
       "        vertical-align: middle;\n",
       "    }\n",
       "\n",
       "    .dataframe tbody tr th {\n",
       "        vertical-align: top;\n",
       "    }\n",
       "\n",
       "    .dataframe thead th {\n",
       "        text-align: right;\n",
       "    }\n",
       "</style>\n",
       "<table border=\"1\" class=\"dataframe\">\n",
       "  <thead>\n",
       "    <tr style=\"text-align: right;\">\n",
       "      <th></th>\n",
       "      <th></th>\n",
       "      <th></th>\n",
       "      <th>Min</th>\n",
       "      <th>Max</th>\n",
       "    </tr>\n",
       "    <tr>\n",
       "      <th>GridName</th>\n",
       "      <th>InstanceId</th>\n",
       "      <th>problem_type</th>\n",
       "      <th></th>\n",
       "      <th></th>\n",
       "    </tr>\n",
       "  </thead>\n",
       "  <tbody>\n",
       "    <tr>\n",
       "      <th rowspan=\"5\" valign=\"top\">warehouse-20-40-10-2-2</th>\n",
       "      <th>11</th>\n",
       "      <th>random</th>\n",
       "      <td>400</td>\n",
       "      <td>498</td>\n",
       "    </tr>\n",
       "    <tr>\n",
       "      <th>12</th>\n",
       "      <th>random</th>\n",
       "      <td>177</td>\n",
       "      <td>469</td>\n",
       "    </tr>\n",
       "    <tr>\n",
       "      <th>21</th>\n",
       "      <th>random</th>\n",
       "      <td>257</td>\n",
       "      <td>432</td>\n",
       "    </tr>\n",
       "    <tr>\n",
       "      <th>3</th>\n",
       "      <th>random</th>\n",
       "      <td>336</td>\n",
       "      <td>426</td>\n",
       "    </tr>\n",
       "    <tr>\n",
       "      <th>4</th>\n",
       "      <th>even</th>\n",
       "      <td>208</td>\n",
       "      <td>424</td>\n",
       "    </tr>\n",
       "    <tr>\n",
       "      <th>...</th>\n",
       "      <th>...</th>\n",
       "      <th>...</th>\n",
       "      <td>...</td>\n",
       "      <td>...</td>\n",
       "    </tr>\n",
       "    <tr>\n",
       "      <th rowspan=\"5\" valign=\"top\">maze-128-128-1</th>\n",
       "      <th>7</th>\n",
       "      <th>even</th>\n",
       "      <td>5</td>\n",
       "      <td>7</td>\n",
       "    </tr>\n",
       "    <tr>\n",
       "      <th>12</th>\n",
       "      <th>even</th>\n",
       "      <td>4</td>\n",
       "      <td>7</td>\n",
       "    </tr>\n",
       "    <tr>\n",
       "      <th>2</th>\n",
       "      <th>even</th>\n",
       "      <td>5</td>\n",
       "      <td>6</td>\n",
       "    </tr>\n",
       "    <tr>\n",
       "      <th>15</th>\n",
       "      <th>random</th>\n",
       "      <td>4</td>\n",
       "      <td>6</td>\n",
       "    </tr>\n",
       "    <tr>\n",
       "      <th>13</th>\n",
       "      <th>random</th>\n",
       "      <td>3</td>\n",
       "      <td>4</td>\n",
       "    </tr>\n",
       "  </tbody>\n",
       "</table>\n",
       "<p>1410 rows × 2 columns</p>\n",
       "</div>"
      ],
      "text/plain": [
       "                                                Min  Max\n",
       "GridName               InstanceId problem_type          \n",
       "warehouse-20-40-10-2-2 11         random        400  498\n",
       "                       12         random        177  469\n",
       "                       21         random        257  432\n",
       "                       3          random        336  426\n",
       "                       4          even          208  424\n",
       "...                                             ...  ...\n",
       "maze-128-128-1         7          even            5    7\n",
       "                       12         even            4    7\n",
       "                       2          even            5    6\n",
       "                       15         random          4    6\n",
       "                       13         random          3    4\n",
       "\n",
       "[1410 rows x 2 columns]"
      ]
     },
     "execution_count": 239,
     "metadata": {},
     "output_type": "execute_result"
    }
   ],
   "source": [
    "lazy_and_cbsh_failed = df[(df['SolvesFinishedCount']<=2)].groupby(['GridName','InstanceId','problem_type'])['NumOfAgents'].agg([('Min' , 'min'), ('Max', 'max')])\n",
    "lazy_and_cbsh_failed[lazy_and_cbsh_failed['Max']>=lazy_and_cbsh_failed['Min']*1.2].sort_values(by='Max',ascending=False)"
   ]
  },
  {
   "cell_type": "markdown",
   "metadata": {},
   "source": [
    "### Where LazyCBS & CBSH Fails? More than 1.5x number of agents solved by other algorithm after they fail"
   ]
  },
  {
   "cell_type": "code",
   "execution_count": 240,
   "metadata": {},
   "outputs": [
    {
     "data": {
      "text/html": [
       "<div>\n",
       "<style scoped>\n",
       "    .dataframe tbody tr th:only-of-type {\n",
       "        vertical-align: middle;\n",
       "    }\n",
       "\n",
       "    .dataframe tbody tr th {\n",
       "        vertical-align: top;\n",
       "    }\n",
       "\n",
       "    .dataframe thead th {\n",
       "        text-align: right;\n",
       "    }\n",
       "</style>\n",
       "<table border=\"1\" class=\"dataframe\">\n",
       "  <thead>\n",
       "    <tr style=\"text-align: right;\">\n",
       "      <th></th>\n",
       "      <th></th>\n",
       "      <th></th>\n",
       "      <th>Min</th>\n",
       "      <th>Max</th>\n",
       "    </tr>\n",
       "    <tr>\n",
       "      <th>GridName</th>\n",
       "      <th>InstanceId</th>\n",
       "      <th>problem_type</th>\n",
       "      <th></th>\n",
       "      <th></th>\n",
       "    </tr>\n",
       "  </thead>\n",
       "  <tbody>\n",
       "    <tr>\n",
       "      <th rowspan=\"4\" valign=\"top\">maze-32-32-4</th>\n",
       "      <th>4</th>\n",
       "      <th>even</th>\n",
       "      <td>3</td>\n",
       "      <td>22</td>\n",
       "    </tr>\n",
       "    <tr>\n",
       "      <th>23</th>\n",
       "      <th>even</th>\n",
       "      <td>6</td>\n",
       "      <td>21</td>\n",
       "    </tr>\n",
       "    <tr>\n",
       "      <th>18</th>\n",
       "      <th>even</th>\n",
       "      <td>7</td>\n",
       "      <td>18</td>\n",
       "    </tr>\n",
       "    <tr>\n",
       "      <th>3</th>\n",
       "      <th>even</th>\n",
       "      <td>6</td>\n",
       "      <td>17</td>\n",
       "    </tr>\n",
       "    <tr>\n",
       "      <th rowspan=\"2\" valign=\"top\">maze-128-128-1</th>\n",
       "      <th>23</th>\n",
       "      <th>even</th>\n",
       "      <td>3</td>\n",
       "      <td>14</td>\n",
       "    </tr>\n",
       "    <tr>\n",
       "      <th>11</th>\n",
       "      <th>even</th>\n",
       "      <td>4</td>\n",
       "      <td>9</td>\n",
       "    </tr>\n",
       "  </tbody>\n",
       "</table>\n",
       "</div>"
      ],
      "text/plain": [
       "                                        Min  Max\n",
       "GridName       InstanceId problem_type          \n",
       "maze-32-32-4   4          even            3   22\n",
       "               23         even            6   21\n",
       "               18         even            7   18\n",
       "               3          even            6   17\n",
       "maze-128-128-1 23         even            3   14\n",
       "               11         even            4    9"
      ]
     },
     "execution_count": 240,
     "metadata": {},
     "output_type": "execute_result"
    }
   ],
   "source": [
    "lazy_and_cbsh_failed = df[(df['lazycbs Success']==0)&(df['cbsh-c Success']==0)&(df['SolvesFinishedCount']>=1)].groupby(['GridName','InstanceId','problem_type'])['NumOfAgents'].agg([('Min' , 'min'), ('Max', 'max')])\n",
    "sorted_failures = lazy_and_cbsh_failed[(lazy_and_cbsh_failed['Max']-lazy_and_cbsh_failed['Min'])/lazy_and_cbsh_failed['Min']>=1].sort_values(by='Max',ascending=False)\n",
    "sorted_failures"
   ]
  },
  {
   "cell_type": "code",
   "execution_count": 241,
   "metadata": {},
   "outputs": [
    {
     "data": {
      "text/plain": [
       "0    sat Runtime\n",
       "1    sat Runtime\n",
       "2    sat Runtime\n",
       "3    sat Runtime\n",
       "4    sat Runtime\n",
       "5    sat Runtime\n",
       "dtype: object"
      ]
     },
     "execution_count": 241,
     "metadata": {},
     "output_type": "execute_result"
    }
   ],
   "source": [
    "def find_instance_by(grid_name, instance_id, n_agents, problem_type='even'):\n",
    "    return df[(df.GridName==grid_name)&(df.InstanceId==instance_id)&(df.NumOfAgents==n_agents)&(df.problem_type==problem_type)]\n",
    "\n",
    "sorted_failures.reset_index().apply(lambda r: find_instance_by(r['GridName'],r['InstanceId'],r['Min'])['Y'].iloc[0], axis=1)\n",
    "# [print(find_instance_by()) for fail in list(sorted_failures.index)]\n",
    "# find_instance_by('Berlin_1_256',21,n_agents=188)[success_cols]"
   ]
  },
  {
   "cell_type": "markdown",
   "metadata": {},
   "source": [
    "### Where lazycbs outperforms all other? "
   ]
  },
  {
   "cell_type": "code",
   "execution_count": 242,
   "metadata": {},
   "outputs": [
    {
     "data": {
      "text/html": [
       "<div>\n",
       "<style scoped>\n",
       "    .dataframe tbody tr th:only-of-type {\n",
       "        vertical-align: middle;\n",
       "    }\n",
       "\n",
       "    .dataframe tbody tr th {\n",
       "        vertical-align: top;\n",
       "    }\n",
       "\n",
       "    .dataframe thead th {\n",
       "        text-align: right;\n",
       "    }\n",
       "</style>\n",
       "<table border=\"1\" class=\"dataframe\">\n",
       "  <thead>\n",
       "    <tr style=\"text-align: right;\">\n",
       "      <th></th>\n",
       "      <th>GridName</th>\n",
       "      <th>InstanceId</th>\n",
       "      <th>problem_type</th>\n",
       "      <th>Min</th>\n",
       "      <th>Max</th>\n",
       "      <th>ratio</th>\n",
       "    </tr>\n",
       "  </thead>\n",
       "  <tbody>\n",
       "    <tr>\n",
       "      <th>0</th>\n",
       "      <td>den520d</td>\n",
       "      <td>17</td>\n",
       "      <td>even</td>\n",
       "      <td>30</td>\n",
       "      <td>128</td>\n",
       "      <td>3.266667</td>\n",
       "    </tr>\n",
       "    <tr>\n",
       "      <th>1</th>\n",
       "      <td>warehouse-10-20-10-2-1</td>\n",
       "      <td>16</td>\n",
       "      <td>random</td>\n",
       "      <td>20</td>\n",
       "      <td>93</td>\n",
       "      <td>3.650000</td>\n",
       "    </tr>\n",
       "    <tr>\n",
       "      <th>2</th>\n",
       "      <td>orz900d</td>\n",
       "      <td>18</td>\n",
       "      <td>random</td>\n",
       "      <td>11</td>\n",
       "      <td>38</td>\n",
       "      <td>2.454545</td>\n",
       "    </tr>\n",
       "    <tr>\n",
       "      <th>3</th>\n",
       "      <td>w_woundedcoast</td>\n",
       "      <td>2</td>\n",
       "      <td>even</td>\n",
       "      <td>9</td>\n",
       "      <td>84</td>\n",
       "      <td>8.333333</td>\n",
       "    </tr>\n",
       "    <tr>\n",
       "      <th>4</th>\n",
       "      <td>maze-32-32-4</td>\n",
       "      <td>23</td>\n",
       "      <td>even</td>\n",
       "      <td>6</td>\n",
       "      <td>21</td>\n",
       "      <td>2.500000</td>\n",
       "    </tr>\n",
       "    <tr>\n",
       "      <th>...</th>\n",
       "      <td>...</td>\n",
       "      <td>...</td>\n",
       "      <td>...</td>\n",
       "      <td>...</td>\n",
       "      <td>...</td>\n",
       "      <td>...</td>\n",
       "    </tr>\n",
       "    <tr>\n",
       "      <th>59</th>\n",
       "      <td>orz900d</td>\n",
       "      <td>10</td>\n",
       "      <td>even</td>\n",
       "      <td>2</td>\n",
       "      <td>59</td>\n",
       "      <td>28.500000</td>\n",
       "    </tr>\n",
       "    <tr>\n",
       "      <th>60</th>\n",
       "      <td>orz900d</td>\n",
       "      <td>12</td>\n",
       "      <td>even</td>\n",
       "      <td>2</td>\n",
       "      <td>59</td>\n",
       "      <td>28.500000</td>\n",
       "    </tr>\n",
       "    <tr>\n",
       "      <th>61</th>\n",
       "      <td>orz900d</td>\n",
       "      <td>12</td>\n",
       "      <td>random</td>\n",
       "      <td>2</td>\n",
       "      <td>80</td>\n",
       "      <td>39.000000</td>\n",
       "    </tr>\n",
       "    <tr>\n",
       "      <th>62</th>\n",
       "      <td>orz900d</td>\n",
       "      <td>13</td>\n",
       "      <td>even</td>\n",
       "      <td>2</td>\n",
       "      <td>43</td>\n",
       "      <td>20.500000</td>\n",
       "    </tr>\n",
       "    <tr>\n",
       "      <th>63</th>\n",
       "      <td>orz900d</td>\n",
       "      <td>11</td>\n",
       "      <td>even</td>\n",
       "      <td>2</td>\n",
       "      <td>35</td>\n",
       "      <td>16.500000</td>\n",
       "    </tr>\n",
       "  </tbody>\n",
       "</table>\n",
       "<p>64 rows × 6 columns</p>\n",
       "</div>"
      ],
      "text/plain": [
       "                  GridName  InstanceId problem_type  Min  Max      ratio\n",
       "0                  den520d          17         even   30  128   3.266667\n",
       "1   warehouse-10-20-10-2-1          16       random   20   93   3.650000\n",
       "2                  orz900d          18       random   11   38   2.454545\n",
       "3           w_woundedcoast           2         even    9   84   8.333333\n",
       "4             maze-32-32-4          23         even    6   21   2.500000\n",
       "..                     ...         ...          ...  ...  ...        ...\n",
       "59                 orz900d          10         even    2   59  28.500000\n",
       "60                 orz900d          12         even    2   59  28.500000\n",
       "61                 orz900d          12       random    2   80  39.000000\n",
       "62                 orz900d          13         even    2   43  20.500000\n",
       "63                 orz900d          11         even    2   35  16.500000\n",
       "\n",
       "[64 rows x 6 columns]"
      ]
     },
     "execution_count": 242,
     "metadata": {},
     "output_type": "execute_result"
    }
   ],
   "source": [
    "lazy_failures = df[(df['lazycbs Success']==0)&(df['SolvesFinishedCount']>=1)].groupby(['GridName','InstanceId','problem_type'])['NumOfAgents'].agg([('Min' , 'min'), ('Max', 'max')])\n",
    "lazy_failures['ratio'] = (lazy_failures['Max']-lazy_failures['Min'])/lazy_failures['Min']\n",
    "sorted_lazy_success = lazy_failures[lazy_failures['ratio']>=2].sort_values(by='Min',ascending=False).reset_index()\n",
    "# sorted_lazy_success[sorted_lazy_success['GridName']=='orz900d']\n",
    "sorted_lazy_success\n"
   ]
  },
  {
   "cell_type": "code",
   "execution_count": 273,
   "metadata": {
    "scrolled": true
   },
   "outputs": [
    {
     "data": {
      "text/plain": [
       "sat Runtime       55\n",
       "cbsh-c Runtime    10\n",
       "epea Runtime       1\n",
       "Name: Y, dtype: int64"
      ]
     },
     "execution_count": 273,
     "metadata": {},
     "output_type": "execute_result"
    }
   ],
   "source": [
    "df[(df['SolvesFinishedCount']==1)&(df.GridName=='maze-128-128-1')]['Y'].value_counts()"
   ]
  },
  {
   "cell_type": "code",
   "execution_count": 315,
   "metadata": {},
   "outputs": [
    {
     "data": {
      "text/plain": [
       "sat Runtime        22\n",
       "cbsh-c Runtime     11\n",
       "icts Runtime        5\n",
       "epea Runtime        2\n",
       "lazycbs Runtime     1\n",
       "Name: Y, dtype: int64"
      ]
     },
     "execution_count": 315,
     "metadata": {},
     "output_type": "execute_result"
    }
   ],
   "source": [
    "df[(df.GridName=='maze-128-128-1')].groupby(['InstanceId','problem_type'])['Y'].tail(1).value_counts()"
   ]
  },
  {
   "cell_type": "markdown",
   "metadata": {},
   "source": [
    "### Interseting cases:\n",
    "1. In 'warehouse-20-40-10-2-2', after 253 agents until 321 agents (68 agents, improvement of 27% in coverage on that map!), only epea wins. Same in 'Berlin_1_256','Paris_1_256' and 'den520d', for instances 21,25,6 for agents 188 (34%), 170(20.5%) and 154 (26%).\n",
    "2. In some maze maps (maze-32-32-4, maze-128-128-1, at instances 4,23,18,3,11) all algorithm almost can't solve the problem (3-4-5 agents), yet sat solves for 15-20 agents! (500-600% improvement in coverage)\n",
    "3. Lazycbs fails DRASTICALLY in orz900d (can't solve more than 2-5 agents, while others solve almost 100!)"
   ]
  },
  {
   "cell_type": "markdown",
   "metadata": {},
   "source": [
    "### For each solver, how distributed are his \"single solver\" maps? ###\n",
    "\n",
    "In other words - we want to check if there is a solver that wins by a large margin on a specific map (and therefore gains coverage)."
   ]
  },
  {
   "cell_type": "code",
   "execution_count": 243,
   "metadata": {},
   "outputs": [
    {
     "data": {
      "text/plain": [
       "empty-48-48               4044\n",
       "warehouse-10-20-10-2-2    3625\n",
       "warehouse-20-40-10-2-2    2515\n",
       "empty-32-32               2111\n",
       "warehouse-20-40-10-2-1    1823\n",
       "random-64-64-20           1819\n",
       "random-64-64-10           1370\n",
       "warehouse-10-20-10-2-1    1338\n",
       "Berlin_1_256               945\n",
       "random-32-32-10            652\n",
       "ht_mansion_n               645\n",
       "den520d                    604\n",
       "random-32-32-20            594\n",
       "empty-16-16                586\n",
       "Boston_0_256               528\n",
       "ost003d                    516\n",
       "ht_chantry                 495\n",
       "room-64-64-16              462\n",
       "den312d                    454\n",
       "lak303d                    299\n",
       "room-32-32-4               222\n",
       "maze-128-128-10            220\n",
       "room-64-64-8               186\n",
       "lt_gallowstemplar_n        147\n",
       "Paris_1_256                133\n",
       "maze-32-32-4               114\n",
       "maze-32-32-2               109\n",
       "empty-8-8                   98\n",
       "maze-128-128-2              45\n",
       "brc202d                     16\n",
       "w_woundedcoast              11\n",
       "Name: GridName, dtype: int64"
      ]
     },
     "execution_count": 243,
     "metadata": {},
     "output_type": "execute_result"
    }
   ],
   "source": [
    "df[(df['SolvesFinishedCount']==1)&(df.Y=='lazycbs Runtime')].GridName.value_counts()"
   ]
  },
  {
   "cell_type": "markdown",
   "metadata": {},
   "source": [
    "### Which maps have the highest std in terms of \"single solvers\" across different configurations? ###"
   ]
  },
  {
   "cell_type": "code",
   "execution_count": 244,
   "metadata": {},
   "outputs": [
    {
     "data": {
      "text/plain": [
       "GridName\n",
       "empty-48-48               2841.862154\n",
       "warehouse-10-20-10-2-2    2545.584412\n",
       "empty-32-32               1475.024746\n",
       "warehouse-20-40-10-2-2    1425.070291\n",
       "warehouse-20-40-10-2-1    1271.377993\n",
       "random-64-64-20           1268.549565\n",
       "random-64-64-10            951.058621\n",
       "warehouse-10-20-10-2-1     763.899863\n",
       "Berlin_1_256               505.956849\n",
       "random-32-32-10            443.355952\n",
       "ht_mansion_n               433.456457\n",
       "random-32-32-20            402.343758\n",
       "empty-16-16                396.686904\n",
       "ht_chantry                 332.340187\n",
       "ost003d                    331.633080\n",
       "brc202d                    319.651373\n",
       "room-64-64-16              309.005663\n",
       "den312d                    303.348809\n",
       "den520d                    296.547354\n",
       "Boston_0_256               253.882519\n",
       "lak303d                    193.040151\n",
       "orz900d                    157.684812\n",
       "w_woundedcoast             151.348384\n",
       "room-32-32-4               139.300036\n",
       "maze-128-128-10            136.471609\n",
       "room-64-64-8               115.965512\n",
       "lt_gallowstemplar_n         74.645830\n",
       "maze-32-32-2                57.073053\n",
       "empty-8-8                   55.861436\n",
       "maze-32-32-4                45.081408\n",
       "maze-128-128-1              28.930952\n",
       "Paris_1_256                 28.501462\n",
       "maze-128-128-2              18.230012\n",
       "Name: Y, dtype: float64"
      ]
     },
     "execution_count": 244,
     "metadata": {},
     "output_type": "execute_result"
    }
   ],
   "source": [
    "s = df[(df['SolvesFinishedCount']==1)].groupby(['GridName'])['Y'].value_counts()\n",
    "s.std(level='GridName').sort_values(ascending=False)"
   ]
  },
  {
   "cell_type": "markdown",
   "metadata": {},
   "source": [
    "### What is thegap between single solver to more than one solver PER MAP TYPE"
   ]
  },
  {
   "cell_type": "code",
   "execution_count": 245,
   "metadata": {},
   "outputs": [],
   "source": [
    "max_num_of_agents_for_two_solvers_per_maptype = df[df['SolvesFinishedCount']>=2].groupby(['maptype','InstanceId','problem_type'])['NumOfAgents'].max()\n",
    "max_num_of_agents_for_single_solver_per_maptype = df[df['SolvesFinishedCount']==1].groupby(['maptype','InstanceId','problem_type'])['NumOfAgents'].max()\n"
   ]
  },
  {
   "cell_type": "code",
   "execution_count": 246,
   "metadata": {},
   "outputs": [
    {
     "data": {
      "text/plain": [
       "maptype    InstanceId  problem_type\n",
       "city       1           even            173\n",
       "                       random          255\n",
       "           2           even            188\n",
       "                       random          215\n",
       "           3           even            207\n",
       "                                      ... \n",
       "warehouse  23          random          381\n",
       "           24          even            339\n",
       "                       random          375\n",
       "           25          even            390\n",
       "                       random          343\n",
       "Name: NumOfAgents, Length: 350, dtype: int64"
      ]
     },
     "execution_count": 246,
     "metadata": {},
     "output_type": "execute_result"
    }
   ],
   "source": [
    "max_num_of_agents_for_single_solver_per_maptype"
   ]
  },
  {
   "cell_type": "code",
   "execution_count": 247,
   "metadata": {},
   "outputs": [
    {
     "data": {
      "text/plain": [
       "maptype  InstanceId  problem_type\n",
       "empty    20          even            1.534351\n",
       "         3           even            1.516949\n",
       "         25          even            1.503759\n",
       "         22          even            1.496183\n",
       "         24          even            1.443662\n",
       "         10          even            1.437500\n",
       "game     23          even            1.367647\n",
       "empty    14          even            1.323741\n",
       "         4           even            1.313433\n",
       "         19          even            1.298507\n",
       "Name: NumOfAgents, dtype: float64"
      ]
     },
     "execution_count": 247,
     "metadata": {},
     "output_type": "execute_result"
    }
   ],
   "source": [
    "single_to_more_than_single_ratio = ((max_num_of_agents_for_single_solver_per_maptype - max_num_of_agents_for_two_solvers_per_maptype)/max_num_of_agents_for_two_solvers_per_maptype)\n",
    "single_to_more_than_single_ratio[single_to_more_than_single_ratio >= 0.5].sort_values(ascending=False).head(10)"
   ]
  },
  {
   "cell_type": "markdown",
   "metadata": {},
   "source": [
    "### Gap between single solver to more than one solver PER MAP"
   ]
  },
  {
   "cell_type": "code",
   "execution_count": 248,
   "metadata": {},
   "outputs": [],
   "source": [
    "max_num_of_agents_for_two_solvers_per_map = df[df['SolvesFinishedCount']>=2].groupby(['GridName','InstanceId','problem_type'])['NumOfAgents'].max()\n",
    "max_num_of_agents_for_single_solver_per_map = df[df['SolvesFinishedCount']==1].groupby(['GridName','InstanceId','problem_type'])['NumOfAgents'].max()"
   ]
  },
  {
   "cell_type": "code",
   "execution_count": 249,
   "metadata": {},
   "outputs": [],
   "source": [
    "relev_index = set(max_num_of_agents_for_single_solver_per_map.index).intersection(set(max_num_of_agents_for_two_solvers_per_map.index))\n",
    "max_num_of_agents_for_single_solver_per_map = max_num_of_agents_for_single_solver_per_map[relev_index]\n",
    "max_num_of_agents_for_two_solvers_per_map = max_num_of_agents_for_two_solvers_per_map[relev_index]\n",
    "single_solvers_df = max_num_of_agents_for_single_solver_per_map.reset_index()\n"
   ]
  },
  {
   "cell_type": "code",
   "execution_count": null,
   "metadata": {},
   "outputs": [],
   "source": [
    "single_solvers_df['ratio'] = ((max_num_of_agents_for_single_solver_per_map - max_num_of_agents_for_two_solvers_per_map)/max_num_of_agents_for_single_solver_per_map).values\n",
    "\n",
    "single_solvers_df['Y'] = single_solvers_df.apply(lambda r: find_instance_by(r['GridName'],r['InstanceId'],n_agents=r['NumOfAgents'],problem_type=r['problem_type'])['Y'].iloc[0], axis=1)\n",
    "# single_to_more_than_single_ratio_bymap\n",
    "# find_instance_by('room-64-64-8',4,)\n",
    "# max_num_of_agents_for_single_solver_per_map['ratio']"
   ]
  },
  {
   "cell_type": "code",
   "execution_count": 256,
   "metadata": {},
   "outputs": [
    {
     "data": {
      "text/html": [
       "<div>\n",
       "<style scoped>\n",
       "    .dataframe tbody tr th:only-of-type {\n",
       "        vertical-align: middle;\n",
       "    }\n",
       "\n",
       "    .dataframe tbody tr th {\n",
       "        vertical-align: top;\n",
       "    }\n",
       "\n",
       "    .dataframe thead th {\n",
       "        text-align: right;\n",
       "    }\n",
       "</style>\n",
       "<table border=\"1\" class=\"dataframe\">\n",
       "  <thead>\n",
       "    <tr style=\"text-align: right;\">\n",
       "      <th></th>\n",
       "      <th>GridName</th>\n",
       "      <th>InstanceId</th>\n",
       "      <th>problem_type</th>\n",
       "      <th>NumOfAgents</th>\n",
       "      <th>ratio</th>\n",
       "      <th>Y</th>\n",
       "    </tr>\n",
       "  </thead>\n",
       "  <tbody>\n",
       "    <tr>\n",
       "      <th>1436</th>\n",
       "      <td>room-64-64-8</td>\n",
       "      <td>4</td>\n",
       "      <td>even</td>\n",
       "      <td>26</td>\n",
       "      <td>0.846154</td>\n",
       "      <td>lazycbs Runtime</td>\n",
       "    </tr>\n",
       "    <tr>\n",
       "      <th>1153</th>\n",
       "      <td>maze-32-32-4</td>\n",
       "      <td>4</td>\n",
       "      <td>even</td>\n",
       "      <td>22</td>\n",
       "      <td>0.818182</td>\n",
       "      <td>sat Runtime</td>\n",
       "    </tr>\n",
       "    <tr>\n",
       "      <th>309</th>\n",
       "      <td>maze-32-32-4</td>\n",
       "      <td>23</td>\n",
       "      <td>even</td>\n",
       "      <td>21</td>\n",
       "      <td>0.761905</td>\n",
       "      <td>sat Runtime</td>\n",
       "    </tr>\n",
       "    <tr>\n",
       "      <th>1469</th>\n",
       "      <td>orz900d</td>\n",
       "      <td>2</td>\n",
       "      <td>even</td>\n",
       "      <td>54</td>\n",
       "      <td>0.740741</td>\n",
       "      <td>cbsh-c Runtime</td>\n",
       "    </tr>\n",
       "    <tr>\n",
       "      <th>963</th>\n",
       "      <td>warehouse-20-40-10-2-2</td>\n",
       "      <td>1</td>\n",
       "      <td>even</td>\n",
       "      <td>353</td>\n",
       "      <td>0.674221</td>\n",
       "      <td>lazycbs Runtime</td>\n",
       "    </tr>\n",
       "    <tr>\n",
       "      <th>...</th>\n",
       "      <td>...</td>\n",
       "      <td>...</td>\n",
       "      <td>...</td>\n",
       "      <td>...</td>\n",
       "      <td>...</td>\n",
       "      <td>...</td>\n",
       "    </tr>\n",
       "    <tr>\n",
       "      <th>368</th>\n",
       "      <td>warehouse-10-20-10-2-1</td>\n",
       "      <td>1</td>\n",
       "      <td>even</td>\n",
       "      <td>175</td>\n",
       "      <td>0.502857</td>\n",
       "      <td>lazycbs Runtime</td>\n",
       "    </tr>\n",
       "    <tr>\n",
       "      <th>385</th>\n",
       "      <td>ht_mansion_n</td>\n",
       "      <td>8</td>\n",
       "      <td>even</td>\n",
       "      <td>94</td>\n",
       "      <td>0.500000</td>\n",
       "      <td>lazycbs Runtime</td>\n",
       "    </tr>\n",
       "    <tr>\n",
       "      <th>1258</th>\n",
       "      <td>den312d</td>\n",
       "      <td>4</td>\n",
       "      <td>even</td>\n",
       "      <td>64</td>\n",
       "      <td>0.500000</td>\n",
       "      <td>lazycbs Runtime</td>\n",
       "    </tr>\n",
       "    <tr>\n",
       "      <th>604</th>\n",
       "      <td>maze-32-32-4</td>\n",
       "      <td>12</td>\n",
       "      <td>even</td>\n",
       "      <td>22</td>\n",
       "      <td>0.500000</td>\n",
       "      <td>sat Runtime</td>\n",
       "    </tr>\n",
       "    <tr>\n",
       "      <th>766</th>\n",
       "      <td>random-64-64-20</td>\n",
       "      <td>3</td>\n",
       "      <td>even</td>\n",
       "      <td>158</td>\n",
       "      <td>0.500000</td>\n",
       "      <td>lazycbs Runtime</td>\n",
       "    </tr>\n",
       "  </tbody>\n",
       "</table>\n",
       "<p>71 rows × 6 columns</p>\n",
       "</div>"
      ],
      "text/plain": [
       "                    GridName  InstanceId problem_type  NumOfAgents     ratio  \\\n",
       "1436            room-64-64-8           4         even           26  0.846154   \n",
       "1153            maze-32-32-4           4         even           22  0.818182   \n",
       "309             maze-32-32-4          23         even           21  0.761905   \n",
       "1469                 orz900d           2         even           54  0.740741   \n",
       "963   warehouse-20-40-10-2-2           1         even          353  0.674221   \n",
       "...                      ...         ...          ...          ...       ...   \n",
       "368   warehouse-10-20-10-2-1           1         even          175  0.502857   \n",
       "385             ht_mansion_n           8         even           94  0.500000   \n",
       "1258                 den312d           4         even           64  0.500000   \n",
       "604             maze-32-32-4          12         even           22  0.500000   \n",
       "766          random-64-64-20           3         even          158  0.500000   \n",
       "\n",
       "                    Y  \n",
       "1436  lazycbs Runtime  \n",
       "1153      sat Runtime  \n",
       "309       sat Runtime  \n",
       "1469   cbsh-c Runtime  \n",
       "963   lazycbs Runtime  \n",
       "...               ...  \n",
       "368   lazycbs Runtime  \n",
       "385   lazycbs Runtime  \n",
       "1258  lazycbs Runtime  \n",
       "604       sat Runtime  \n",
       "766   lazycbs Runtime  \n",
       "\n",
       "[71 rows x 6 columns]"
      ]
     },
     "execution_count": 256,
     "metadata": {},
     "output_type": "execute_result"
    }
   ],
   "source": [
    "single_solvers_df[single_solvers_df['ratio'] >= 0.5].sort_values(by='ratio',ascending=False)"
   ]
  },
  {
   "cell_type": "code",
   "execution_count": 45,
   "metadata": {},
   "outputs": [
    {
     "data": {
      "text/html": [
       "<div>\n",
       "<style scoped>\n",
       "    .dataframe tbody tr th:only-of-type {\n",
       "        vertical-align: middle;\n",
       "    }\n",
       "\n",
       "    .dataframe tbody tr th {\n",
       "        vertical-align: top;\n",
       "    }\n",
       "\n",
       "    .dataframe thead th {\n",
       "        text-align: right;\n",
       "    }\n",
       "</style>\n",
       "<table border=\"1\" class=\"dataframe\">\n",
       "  <thead>\n",
       "    <tr style=\"text-align: right;\">\n",
       "      <th></th>\n",
       "      <th>GridName</th>\n",
       "      <th>InstanceId</th>\n",
       "      <th>problem_type</th>\n",
       "      <th>NumOfAgents</th>\n",
       "    </tr>\n",
       "  </thead>\n",
       "  <tbody>\n",
       "    <tr>\n",
       "      <th>0</th>\n",
       "      <td>Berlin_1_256</td>\n",
       "      <td>1</td>\n",
       "      <td>cross-sides</td>\n",
       "      <td>26.0</td>\n",
       "    </tr>\n",
       "    <tr>\n",
       "      <th>1</th>\n",
       "      <td>Berlin_1_256</td>\n",
       "      <td>1</td>\n",
       "      <td>inside-out</td>\n",
       "      <td>46.0</td>\n",
       "    </tr>\n",
       "    <tr>\n",
       "      <th>2</th>\n",
       "      <td>Berlin_1_256</td>\n",
       "      <td>1</td>\n",
       "      <td>outside-in</td>\n",
       "      <td>16.0</td>\n",
       "    </tr>\n",
       "    <tr>\n",
       "      <th>3</th>\n",
       "      <td>Berlin_1_256</td>\n",
       "      <td>1</td>\n",
       "      <td>swap-sides</td>\n",
       "      <td>63.0</td>\n",
       "    </tr>\n",
       "    <tr>\n",
       "      <th>4</th>\n",
       "      <td>Berlin_1_256</td>\n",
       "      <td>1</td>\n",
       "      <td>tight-to-tight</td>\n",
       "      <td>1.0</td>\n",
       "    </tr>\n",
       "    <tr>\n",
       "      <th>...</th>\n",
       "      <td>...</td>\n",
       "      <td>...</td>\n",
       "      <td>...</td>\n",
       "      <td>...</td>\n",
       "    </tr>\n",
       "    <tr>\n",
       "      <th>400</th>\n",
       "      <td>warehouse-20-40-10-2-2</td>\n",
       "      <td>2</td>\n",
       "      <td>inside-out</td>\n",
       "      <td>NaN</td>\n",
       "    </tr>\n",
       "    <tr>\n",
       "      <th>401</th>\n",
       "      <td>warehouse-20-40-10-2-2</td>\n",
       "      <td>2</td>\n",
       "      <td>outside-in</td>\n",
       "      <td>16.0</td>\n",
       "    </tr>\n",
       "    <tr>\n",
       "      <th>402</th>\n",
       "      <td>warehouse-20-40-10-2-2</td>\n",
       "      <td>2</td>\n",
       "      <td>swap-sides</td>\n",
       "      <td>NaN</td>\n",
       "    </tr>\n",
       "    <tr>\n",
       "      <th>403</th>\n",
       "      <td>warehouse-20-40-10-2-2</td>\n",
       "      <td>2</td>\n",
       "      <td>tight-to-tight</td>\n",
       "      <td>NaN</td>\n",
       "    </tr>\n",
       "    <tr>\n",
       "      <th>404</th>\n",
       "      <td>warehouse-20-40-10-2-2</td>\n",
       "      <td>2</td>\n",
       "      <td>tight-to-wide</td>\n",
       "      <td>28.0</td>\n",
       "    </tr>\n",
       "  </tbody>\n",
       "</table>\n",
       "<p>405 rows × 4 columns</p>\n",
       "</div>"
      ],
      "text/plain": [
       "                   GridName  InstanceId    problem_type  NumOfAgents\n",
       "0              Berlin_1_256           1     cross-sides         26.0\n",
       "1              Berlin_1_256           1      inside-out         46.0\n",
       "2              Berlin_1_256           1      outside-in         16.0\n",
       "3              Berlin_1_256           1      swap-sides         63.0\n",
       "4              Berlin_1_256           1  tight-to-tight          1.0\n",
       "..                      ...         ...             ...          ...\n",
       "400  warehouse-20-40-10-2-2           2      inside-out          NaN\n",
       "401  warehouse-20-40-10-2-2           2      outside-in         16.0\n",
       "402  warehouse-20-40-10-2-2           2      swap-sides          NaN\n",
       "403  warehouse-20-40-10-2-2           2  tight-to-tight          NaN\n",
       "404  warehouse-20-40-10-2-2           2   tight-to-wide         28.0\n",
       "\n",
       "[405 rows x 4 columns]"
      ]
     },
     "execution_count": 45,
     "metadata": {},
     "output_type": "execute_result"
    }
   ],
   "source": [
    "margin_from_single_solver.reset_index()"
   ]
  },
  {
   "cell_type": "markdown",
   "metadata": {},
   "source": [
    "### Make embedding of the graph based on Node2Vec"
   ]
  },
  {
   "cell_type": "code",
   "execution_count": 73,
   "metadata": {},
   "outputs": [
    {
     "name": "stdout",
     "output_type": "stream",
     "text": [
      "../data/from-vpn/scen/scen-custom\\warehouse-20-40-10-2-2-inside-out-2.scen 116\n"
     ]
    }
   ],
   "source": [
    "from node2vec import Node2Vec\n",
    "from src.utils.VizMapfGraph import VizMapfGraph\n",
    "import glob\n",
    "import numpy as np\n",
    "from array2gif import write_gif\n",
    "import dgl\n",
    "\n",
    "scen_path = '../data/from-vpn/scen/scen-custom/'\n",
    "map_path = '../data/from-vpn/maps/'\n",
    "row = df.sample(1).iloc[0]    \n",
    "curr_map = map_path + row['map']\n",
    "curr_scen = scen_path + row['scen']\n",
    "if '*' in curr_scen:\n",
    "    curr_scen = glob.glob(curr_scen)[0]\n",
    "graph = VizMapfGraph(map_filename=curr_map)\n",
    "graph.create_graph()\n",
    "n_agents = row['NumOfAgents']\n",
    "print(curr_scen,n_agents)\n",
    "graph.load_agents_from_scen(curr_scen, n_agents, row['InstanceId'])\n",
    "remove = [node for node,features in graph.G.nodes(data=True) if features['color']=='white']\n",
    "# print(len(graph.G))\n",
    "# graph.G.remove_nodes_from(remove) # Drop blocked nodes from graph\n",
    "# print(len(graph.G))\n",
    "\n",
    "# g = dgl.from_networkx(graph.G, node_attrs=)\n",
    "# g"
   ]
  },
  {
   "cell_type": "code",
   "execution_count": 74,
   "metadata": {},
   "outputs": [],
   "source": [
    "# for i in range(0, graph.grid_size[0], graph.grid_size[0] // 8):\n",
    "#     for j in range(0, graph.grid_size[1], graph.grid_size[1] // 8):\n",
    "#         cell = (i,j)\n",
    "#         relevent_nodes = [(node,features) for node,features in graph.G.nodes(data=True) if graph.in_cell_range(node, cell)]\n",
    "#         a_s = len([n for n in relevent_nodes if n[1]['type'] == 'agent_start'])/graph.num_agents\n",
    "#         a_g = len([n for n in relevent_nodes if n[1]['type'] == 'agent_goal'])/graph.num_agents\n",
    "#         if graph.num_obstacles==0:\n",
    "#             o = 0\n",
    "#         else:\n",
    "#             o = len([n for n in relevent_nodes if n[1]['type'] == 'obstacle'])/graph.num_obstacles\n",
    "        \n",
    "#         print(\"{c} agents start : {a_s}, agents goal: {a_g}, obstacles: {o}\".format(c=cell,a_s=a_s,a_g=a_g,o=o))"
   ]
  },
  {
   "cell_type": "markdown",
   "metadata": {},
   "source": [
    "### Finding \"Breaking points\"\n",
    "Points on instances where adding a single agent caused a dramatic increase in runtime"
   ]
  },
  {
   "cell_type": "code",
   "execution_count": 75,
   "metadata": {},
   "outputs": [],
   "source": [
    "jump = 1\n",
    "breaks = df[(df['Y Runtime'].shift(-jump)>df['Y Runtime']*5)&(df['Y Runtime']>5)].index.to_list()\n",
    "after_breaks = [b+jump for b in breaks]\n",
    "# breaks.extend(after_breaks)\n"
   ]
  },
  {
   "cell_type": "code",
   "execution_count": 76,
   "metadata": {},
   "outputs": [
    {
     "data": {
      "text/plain": [
       "197"
      ]
     },
     "execution_count": 76,
     "metadata": {},
     "output_type": "execute_result"
    }
   ],
   "source": [
    "after_breaks.sort()\n",
    "len(after_breaks)"
   ]
  },
  {
   "cell_type": "code",
   "execution_count": 77,
   "metadata": {},
   "outputs": [
    {
     "data": {
      "text/html": [
       "<div>\n",
       "<style scoped>\n",
       "    .dataframe tbody tr th:only-of-type {\n",
       "        vertical-align: middle;\n",
       "    }\n",
       "\n",
       "    .dataframe tbody tr th {\n",
       "        vertical-align: top;\n",
       "    }\n",
       "\n",
       "    .dataframe thead th {\n",
       "        text-align: right;\n",
       "    }\n",
       "</style>\n",
       "<table border=\"1\" class=\"dataframe\">\n",
       "  <thead>\n",
       "    <tr style=\"text-align: right;\">\n",
       "      <th></th>\n",
       "      <th>NumOfAgents</th>\n",
       "      <th>Y Runtime</th>\n",
       "      <th>Y</th>\n",
       "      <th>InstanceId</th>\n",
       "      <th>GridName</th>\n",
       "      <th>GridRows</th>\n",
       "      <th>GridColumns</th>\n",
       "      <th>NumOfAgents</th>\n",
       "      <th>NumOfObstacles</th>\n",
       "      <th>ObstacleDensity</th>\n",
       "      <th>...</th>\n",
       "      <th>7_4_cell_obstacles</th>\n",
       "      <th>7_5_cell_agent_start</th>\n",
       "      <th>7_5_cell_agent_goal</th>\n",
       "      <th>7_5_cell_obstacles</th>\n",
       "      <th>7_6_cell_agent_start</th>\n",
       "      <th>7_6_cell_agent_goal</th>\n",
       "      <th>7_6_cell_obstacles</th>\n",
       "      <th>7_7_cell_agent_start</th>\n",
       "      <th>7_7_cell_agent_goal</th>\n",
       "      <th>7_7_cell_obstacles</th>\n",
       "    </tr>\n",
       "  </thead>\n",
       "  <tbody>\n",
       "    <tr>\n",
       "      <th>91</th>\n",
       "      <td>61</td>\n",
       "      <td>5819.7950</td>\n",
       "      <td>epea Runtime</td>\n",
       "      <td>1</td>\n",
       "      <td>Boston_0_256</td>\n",
       "      <td>256</td>\n",
       "      <td>256</td>\n",
       "      <td>61</td>\n",
       "      <td>17768</td>\n",
       "      <td>0.271118</td>\n",
       "      <td>...</td>\n",
       "      <td>0.000000</td>\n",
       "      <td>0.000000</td>\n",
       "      <td>0.016393</td>\n",
       "      <td>0.019473</td>\n",
       "      <td>0.000000</td>\n",
       "      <td>0.032787</td>\n",
       "      <td>0.008104</td>\n",
       "      <td>0.000000</td>\n",
       "      <td>0.016393</td>\n",
       "      <td>0.014914</td>\n",
       "    </tr>\n",
       "    <tr>\n",
       "      <th>184</th>\n",
       "      <td>78</td>\n",
       "      <td>13623.5577</td>\n",
       "      <td>lazycbs Runtime</td>\n",
       "      <td>1</td>\n",
       "      <td>Paris_1_256</td>\n",
       "      <td>256</td>\n",
       "      <td>256</td>\n",
       "      <td>78</td>\n",
       "      <td>18296</td>\n",
       "      <td>0.279175</td>\n",
       "      <td>...</td>\n",
       "      <td>0.007816</td>\n",
       "      <td>0.038462</td>\n",
       "      <td>0.000000</td>\n",
       "      <td>0.021480</td>\n",
       "      <td>0.051282</td>\n",
       "      <td>0.000000</td>\n",
       "      <td>0.013282</td>\n",
       "      <td>0.025641</td>\n",
       "      <td>0.000000</td>\n",
       "      <td>0.014921</td>\n",
       "    </tr>\n",
       "    <tr>\n",
       "      <th>190</th>\n",
       "      <td>81</td>\n",
       "      <td>13209.2020</td>\n",
       "      <td>lazycbs Runtime</td>\n",
       "      <td>1</td>\n",
       "      <td>Paris_1_256</td>\n",
       "      <td>256</td>\n",
       "      <td>256</td>\n",
       "      <td>81</td>\n",
       "      <td>18296</td>\n",
       "      <td>0.279175</td>\n",
       "      <td>...</td>\n",
       "      <td>0.007816</td>\n",
       "      <td>0.037037</td>\n",
       "      <td>0.000000</td>\n",
       "      <td>0.021480</td>\n",
       "      <td>0.049383</td>\n",
       "      <td>0.000000</td>\n",
       "      <td>0.013282</td>\n",
       "      <td>0.037037</td>\n",
       "      <td>0.000000</td>\n",
       "      <td>0.014921</td>\n",
       "    </tr>\n",
       "    <tr>\n",
       "      <th>192</th>\n",
       "      <td>82</td>\n",
       "      <td>13812.8462</td>\n",
       "      <td>lazycbs Runtime</td>\n",
       "      <td>1</td>\n",
       "      <td>Paris_1_256</td>\n",
       "      <td>256</td>\n",
       "      <td>256</td>\n",
       "      <td>82</td>\n",
       "      <td>18296</td>\n",
       "      <td>0.279175</td>\n",
       "      <td>...</td>\n",
       "      <td>0.007816</td>\n",
       "      <td>0.036585</td>\n",
       "      <td>0.000000</td>\n",
       "      <td>0.021480</td>\n",
       "      <td>0.048780</td>\n",
       "      <td>0.000000</td>\n",
       "      <td>0.013282</td>\n",
       "      <td>0.036585</td>\n",
       "      <td>0.000000</td>\n",
       "      <td>0.014921</td>\n",
       "    </tr>\n",
       "    <tr>\n",
       "      <th>196</th>\n",
       "      <td>84</td>\n",
       "      <td>9815.9504</td>\n",
       "      <td>lazycbs Runtime</td>\n",
       "      <td>1</td>\n",
       "      <td>Paris_1_256</td>\n",
       "      <td>256</td>\n",
       "      <td>256</td>\n",
       "      <td>84</td>\n",
       "      <td>18296</td>\n",
       "      <td>0.279175</td>\n",
       "      <td>...</td>\n",
       "      <td>0.007816</td>\n",
       "      <td>0.035714</td>\n",
       "      <td>0.000000</td>\n",
       "      <td>0.021480</td>\n",
       "      <td>0.047619</td>\n",
       "      <td>0.000000</td>\n",
       "      <td>0.013282</td>\n",
       "      <td>0.035714</td>\n",
       "      <td>0.000000</td>\n",
       "      <td>0.014921</td>\n",
       "    </tr>\n",
       "    <tr>\n",
       "      <th>204</th>\n",
       "      <td>88</td>\n",
       "      <td>14367.0343</td>\n",
       "      <td>lazycbs Runtime</td>\n",
       "      <td>1</td>\n",
       "      <td>Paris_1_256</td>\n",
       "      <td>256</td>\n",
       "      <td>256</td>\n",
       "      <td>88</td>\n",
       "      <td>18296</td>\n",
       "      <td>0.279175</td>\n",
       "      <td>...</td>\n",
       "      <td>0.007816</td>\n",
       "      <td>0.034091</td>\n",
       "      <td>0.000000</td>\n",
       "      <td>0.021480</td>\n",
       "      <td>0.045455</td>\n",
       "      <td>0.000000</td>\n",
       "      <td>0.013282</td>\n",
       "      <td>0.034091</td>\n",
       "      <td>0.000000</td>\n",
       "      <td>0.014921</td>\n",
       "    </tr>\n",
       "    <tr>\n",
       "      <th>206</th>\n",
       "      <td>89</td>\n",
       "      <td>10914.1976</td>\n",
       "      <td>lazycbs Runtime</td>\n",
       "      <td>1</td>\n",
       "      <td>Paris_1_256</td>\n",
       "      <td>256</td>\n",
       "      <td>256</td>\n",
       "      <td>89</td>\n",
       "      <td>18296</td>\n",
       "      <td>0.279175</td>\n",
       "      <td>...</td>\n",
       "      <td>0.007816</td>\n",
       "      <td>0.033708</td>\n",
       "      <td>0.000000</td>\n",
       "      <td>0.021480</td>\n",
       "      <td>0.044944</td>\n",
       "      <td>0.000000</td>\n",
       "      <td>0.013282</td>\n",
       "      <td>0.033708</td>\n",
       "      <td>0.000000</td>\n",
       "      <td>0.014921</td>\n",
       "    </tr>\n",
       "    <tr>\n",
       "      <th>212</th>\n",
       "      <td>92</td>\n",
       "      <td>10324.3498</td>\n",
       "      <td>lazycbs Runtime</td>\n",
       "      <td>1</td>\n",
       "      <td>Paris_1_256</td>\n",
       "      <td>256</td>\n",
       "      <td>256</td>\n",
       "      <td>92</td>\n",
       "      <td>18296</td>\n",
       "      <td>0.279175</td>\n",
       "      <td>...</td>\n",
       "      <td>0.007816</td>\n",
       "      <td>0.032609</td>\n",
       "      <td>0.000000</td>\n",
       "      <td>0.021480</td>\n",
       "      <td>0.043478</td>\n",
       "      <td>0.000000</td>\n",
       "      <td>0.013282</td>\n",
       "      <td>0.032609</td>\n",
       "      <td>0.000000</td>\n",
       "      <td>0.014921</td>\n",
       "    </tr>\n",
       "    <tr>\n",
       "      <th>214</th>\n",
       "      <td>93</td>\n",
       "      <td>7297.3526</td>\n",
       "      <td>lazycbs Runtime</td>\n",
       "      <td>1</td>\n",
       "      <td>Paris_1_256</td>\n",
       "      <td>256</td>\n",
       "      <td>256</td>\n",
       "      <td>93</td>\n",
       "      <td>18296</td>\n",
       "      <td>0.279175</td>\n",
       "      <td>...</td>\n",
       "      <td>0.007816</td>\n",
       "      <td>0.032258</td>\n",
       "      <td>0.000000</td>\n",
       "      <td>0.021480</td>\n",
       "      <td>0.043011</td>\n",
       "      <td>0.000000</td>\n",
       "      <td>0.013282</td>\n",
       "      <td>0.032258</td>\n",
       "      <td>0.000000</td>\n",
       "      <td>0.014921</td>\n",
       "    </tr>\n",
       "    <tr>\n",
       "      <th>238</th>\n",
       "      <td>105</td>\n",
       "      <td>19212.2502</td>\n",
       "      <td>lazycbs Runtime</td>\n",
       "      <td>1</td>\n",
       "      <td>Paris_1_256</td>\n",
       "      <td>256</td>\n",
       "      <td>256</td>\n",
       "      <td>105</td>\n",
       "      <td>18296</td>\n",
       "      <td>0.279175</td>\n",
       "      <td>...</td>\n",
       "      <td>0.007816</td>\n",
       "      <td>0.028571</td>\n",
       "      <td>0.000000</td>\n",
       "      <td>0.021480</td>\n",
       "      <td>0.038095</td>\n",
       "      <td>0.000000</td>\n",
       "      <td>0.013282</td>\n",
       "      <td>0.047619</td>\n",
       "      <td>0.000000</td>\n",
       "      <td>0.014921</td>\n",
       "    </tr>\n",
       "  </tbody>\n",
       "</table>\n",
       "<p>10 rows × 258 columns</p>\n",
       "</div>"
      ],
      "text/plain": [
       "     NumOfAgents   Y Runtime                Y  InstanceId      GridName  \\\n",
       "91            61   5819.7950     epea Runtime           1  Boston_0_256   \n",
       "184           78  13623.5577  lazycbs Runtime           1   Paris_1_256   \n",
       "190           81  13209.2020  lazycbs Runtime           1   Paris_1_256   \n",
       "192           82  13812.8462  lazycbs Runtime           1   Paris_1_256   \n",
       "196           84   9815.9504  lazycbs Runtime           1   Paris_1_256   \n",
       "204           88  14367.0343  lazycbs Runtime           1   Paris_1_256   \n",
       "206           89  10914.1976  lazycbs Runtime           1   Paris_1_256   \n",
       "212           92  10324.3498  lazycbs Runtime           1   Paris_1_256   \n",
       "214           93   7297.3526  lazycbs Runtime           1   Paris_1_256   \n",
       "238          105  19212.2502  lazycbs Runtime           1   Paris_1_256   \n",
       "\n",
       "     GridRows  GridColumns  NumOfAgents  NumOfObstacles  ObstacleDensity  ...  \\\n",
       "91        256          256           61           17768         0.271118  ...   \n",
       "184       256          256           78           18296         0.279175  ...   \n",
       "190       256          256           81           18296         0.279175  ...   \n",
       "192       256          256           82           18296         0.279175  ...   \n",
       "196       256          256           84           18296         0.279175  ...   \n",
       "204       256          256           88           18296         0.279175  ...   \n",
       "206       256          256           89           18296         0.279175  ...   \n",
       "212       256          256           92           18296         0.279175  ...   \n",
       "214       256          256           93           18296         0.279175  ...   \n",
       "238       256          256          105           18296         0.279175  ...   \n",
       "\n",
       "     7_4_cell_obstacles  7_5_cell_agent_start  7_5_cell_agent_goal  \\\n",
       "91             0.000000              0.000000             0.016393   \n",
       "184            0.007816              0.038462             0.000000   \n",
       "190            0.007816              0.037037             0.000000   \n",
       "192            0.007816              0.036585             0.000000   \n",
       "196            0.007816              0.035714             0.000000   \n",
       "204            0.007816              0.034091             0.000000   \n",
       "206            0.007816              0.033708             0.000000   \n",
       "212            0.007816              0.032609             0.000000   \n",
       "214            0.007816              0.032258             0.000000   \n",
       "238            0.007816              0.028571             0.000000   \n",
       "\n",
       "     7_5_cell_obstacles  7_6_cell_agent_start  7_6_cell_agent_goal  \\\n",
       "91             0.019473              0.000000             0.032787   \n",
       "184            0.021480              0.051282             0.000000   \n",
       "190            0.021480              0.049383             0.000000   \n",
       "192            0.021480              0.048780             0.000000   \n",
       "196            0.021480              0.047619             0.000000   \n",
       "204            0.021480              0.045455             0.000000   \n",
       "206            0.021480              0.044944             0.000000   \n",
       "212            0.021480              0.043478             0.000000   \n",
       "214            0.021480              0.043011             0.000000   \n",
       "238            0.021480              0.038095             0.000000   \n",
       "\n",
       "     7_6_cell_obstacles  7_7_cell_agent_start  7_7_cell_agent_goal  \\\n",
       "91             0.008104              0.000000             0.016393   \n",
       "184            0.013282              0.025641             0.000000   \n",
       "190            0.013282              0.037037             0.000000   \n",
       "192            0.013282              0.036585             0.000000   \n",
       "196            0.013282              0.035714             0.000000   \n",
       "204            0.013282              0.034091             0.000000   \n",
       "206            0.013282              0.033708             0.000000   \n",
       "212            0.013282              0.032609             0.000000   \n",
       "214            0.013282              0.032258             0.000000   \n",
       "238            0.013282              0.047619             0.000000   \n",
       "\n",
       "     7_7_cell_obstacles  \n",
       "91             0.014914  \n",
       "184            0.014921  \n",
       "190            0.014921  \n",
       "192            0.014921  \n",
       "196            0.014921  \n",
       "204            0.014921  \n",
       "206            0.014921  \n",
       "212            0.014921  \n",
       "214            0.014921  \n",
       "238            0.014921  \n",
       "\n",
       "[10 rows x 258 columns]"
      ]
     },
     "execution_count": 77,
     "metadata": {},
     "output_type": "execute_result"
    }
   ],
   "source": [
    "df.iloc[after_breaks][['NumOfAgents','Y Runtime','Y','InstanceId','GridName']+features_cols].head(10)"
   ]
  },
  {
   "cell_type": "markdown",
   "metadata": {},
   "source": [
    "### Visualize some breaking points - the map before and after the addition of the \"breaking\" agent ###"
   ]
  },
  {
   "cell_type": "code",
   "execution_count": 78,
   "metadata": {},
   "outputs": [],
   "source": [
    "# from src.utils.VizMapfGraph import VizMapfGraph\n",
    "# import glob\n",
    "# import numpy as np\n",
    "# from array2gif import write_gif\n",
    "\n",
    "# scen_path = '../data/from-vpn/scen/scen-custom/'\n",
    "# map_path = '../data/from-vpn/maps/'\n",
    "# for index,row in df.iloc[after_breaks][['NumOfAgents','Y Runtime','Y','InstanceId','GridName','map','scen']+features_cols].sample(10).iterrows():\n",
    "#     curr_map = map_path + row['map']\n",
    "#     curr_scen = scen_path + row['scen']\n",
    "#     if '*' in curr_scen:\n",
    "#         curr_scen = glob.glob(curr_scen)[0]\n",
    "#     graph = VizMapfGraph(map_filename=curr_map)\n",
    "#     graph.create_graph()\n",
    "#     n_agents = row['NumOfAgents'].values[0]-1\n",
    "#     graph.load_agents_from_scen(curr_scen, n_agents, row['InstanceId'])\n",
    "#     graph.draw_graph_to('tmp.jpg')\n",
    "#     before = np.load('tmp.jpg.npz')['arr_0']\n",
    "#     plt.figure()\n",
    "#     plt.axis('off')\n",
    "#     plt.title(curr_scen.split('\\\\')[-1]+' With {n} agents'.format(n=n_agents))\n",
    "#     plt.imshow(before)\n",
    "    \n",
    "#     graph.load_agents_from_scen(curr_scen, n_agents+1, row['InstanceId'])\n",
    "#     graph.draw_graph_to('tmp.jpg')\n",
    "#     after = np.load('tmp.jpg.npz')['arr_0']\n",
    "# #     write_gif([before*255,after*255], 'cool{i}.gif'.format(i=index), fps=20)\n",
    "\n",
    "#     plt.figure()\n",
    "#     plt.axis('off')\n",
    "#     plt.title(curr_scen.split('\\\\')[-1]+' With {n} agents'.format(n=n_agents+1))\n",
    "#     plt.imshow(after)\n",
    "    \n",
    "    \n",
    "    "
   ]
  },
  {
   "cell_type": "code",
   "execution_count": 91,
   "metadata": {},
   "outputs": [
    {
     "data": {
      "image/png": "[encoded data removed]",
      "text/plain": [
       "<Figure size 432x288 with 1 Axes>"
      ]
     },
     "metadata": {
      "needs_background": "light"
     },
     "output_type": "display_data"
    },
    {
     "data": {
      "image/png": "[encoded data removed]",
      "text/plain": [
       "<Figure size 432x288 with 1 Axes>"
      ]
     },
     "metadata": {
      "needs_background": "light"
     },
     "output_type": "display_data"
    },
    {
     "data": {
      "image/png": "[encoded data removed]",
      "text/plain": [
       "<Figure size 432x288 with 1 Axes>"
      ]
     },
     "metadata": {
      "needs_background": "light"
     },
     "output_type": "display_data"
    },
    {
     "data": {
      "image/png": "[encoded data removed]",
      "text/plain": [
       "<Figure size 432x288 with 1 Axes>"
      ]
     },
     "metadata": {
      "needs_background": "light"
     },
     "output_type": "display_data"
    },
    {
     "data": {
      "image/png": "[encoded data removed]",
      "text/plain": [
       "<Figure size 432x288 with 1 Axes>"
      ]
     },
     "metadata": {
      "needs_background": "light"
     },
     "output_type": "display_data"
    },
    {
     "data": {
      "image/png": "[encoded data removed]",
      "text/plain": [
       "<Figure size 432x288 with 1 Axes>"
      ]
     },
     "metadata": {
      "needs_background": "light"
     },
     "output_type": "display_data"
    },
    {
     "data": {
      "image/png": "[encoded data removed]",
      "text/plain": [
       "<Figure size 432x288 with 1 Axes>"
      ]
     },
     "metadata": {
      "needs_background": "light"
     },
     "output_type": "display_data"
    },
    {
     "data": {
      "image/png": "[encoded data removed]",
      "text/plain": [
       "<Figure size 432x288 with 1 Axes>"
      ]
     },
     "metadata": {
      "needs_background": "light"
     },
     "output_type": "display_data"
    },
    {
     "data": {
      "image/png": "[encoded data removed]",
      "text/plain": [
       "<Figure size 432x288 with 1 Axes>"
      ]
     },
     "metadata": {
      "needs_background": "light"
     },
     "output_type": "display_data"
    },
    {
     "data": {
      "image/png": "[encoded data removed]",
      "text/plain": [
       "<Figure size 432x288 with 1 Axes>"
      ]
     },
     "metadata": {
      "needs_background": "light"
     },
     "output_type": "display_data"
    },
    {
     "data": {
      "image/png": "[encoded data removed]",
      "text/plain": [
       "<Figure size 432x288 with 1 Axes>"
      ]
     },
     "metadata": {
      "needs_background": "light"
     },
     "output_type": "display_data"
    },
    {
     "data": {
      "image/png": "[encoded data removed]",
      "text/plain": [
       "<Figure size 432x288 with 1 Axes>"
      ]
     },
     "metadata": {
      "needs_background": "light"
     },
     "output_type": "display_data"
    },
    {
     "data": {
      "image/png": "[encoded data removed]",
      "text/plain": [
       "<Figure size 432x288 with 1 Axes>"
      ]
     },
     "metadata": {
      "needs_background": "light"
     },
     "output_type": "display_data"
    },
    {
     "data": {
      "image/png": "[encoded data removed]",
      "text/plain": [
       "<Figure size 432x288 with 1 Axes>"
      ]
     },
     "metadata": {
      "needs_background": "light"
     },
     "output_type": "display_data"
    },
    {
     "data": {
      "image/png": "[encoded data removed]",
      "text/plain": [
       "<Figure size 432x288 with 1 Axes>"
      ]
     },
     "metadata": {
      "needs_background": "light"
     },
     "output_type": "display_data"
    },
    {
     "data": {
      "image/png": "[encoded data removed]",
      "text/plain": [
       "<Figure size 432x288 with 1 Axes>"
      ]
     },
     "metadata": {
      "needs_background": "light"
     },
     "output_type": "display_data"
    },
    {
     "data": {
      "image/png": "[encoded data removed]",
      "text/plain": [
       "<Figure size 432x288 with 1 Axes>"
      ]
     },
     "metadata": {
      "needs_background": "light"
     },
     "output_type": "display_data"
    },
    {
     "data": {
      "image/png": "[encoded data removed]",
      "text/plain": [
       "<Figure size 432x288 with 1 Axes>"
      ]
     },
     "metadata": {
      "needs_background": "light"
     },
     "output_type": "display_data"
    },
    {
     "data": {
      "image/png": "[encoded data removed]",
      "text/plain": [
       "<Figure size 432x288 with 1 Axes>"
      ]
     },
     "metadata": {
      "needs_background": "light"
     },
     "output_type": "display_data"
    },
    {
     "data": {
      "image/png": "[encoded data removed]",
      "text/plain": [
       "<Figure size 432x288 with 1 Axes>"
      ]
     },
     "metadata": {
      "needs_background": "light"
     },
     "output_type": "display_data"
    }
   ],
   "source": [
    "from src.utils.VizMapfGraph import VizMapfGraph\n",
    "import glob\n",
    "import numpy as np\n",
    "from array2gif import write_gif\n",
    "\n",
    "def create_8by8_from_row(row):\n",
    "    mapf_representation = np.zeros((8, 8, 3))\n",
    "    for i in range(0, 8):\n",
    "        for j in range(0, 8):\n",
    "            mapf_representation[i][j][0] = row[f'{i}_{j}_cell_agent_start']*10\n",
    "            mapf_representation[i][j][1] = row[f'{i}_{j}_cell_agent_goal']*10\n",
    "            mapf_representation[i][j][2] = row[f'{i}_{j}_cell_obstacles']*10\n",
    "#             mapf_representation[i][j][3] = row[f'{i}_{j}_cell_open']\n",
    "\n",
    "    return mapf_representation\n",
    "\n",
    "scen_path = '../data/from-vpn/scen/scen-custom/'\n",
    "map_path = '../data/from-vpn/maps/'\n",
    "for index,row in df.iloc[after_breaks][['NumOfAgents','Y Runtime','Y','InstanceId','GridName','map','scen']+features_cols].sample(10).iterrows():\n",
    "    curr_map = map_path + row['map']\n",
    "    curr_scen = scen_path + row['scen']\n",
    "    img = create_8by8_from_row(row)\n",
    "    plt.figure()\n",
    "    plt.axis('off')\n",
    "    plt.title(curr_scen.split('\\\\')[-1]+' With {n} agents'.format(n=n_agents+1))\n",
    "    plt.imshow(img[:,:,1])\n",
    "    plt.figure()\n",
    "    plt.axis('off')\n",
    "    plt.title(curr_scen.split('\\\\')[-1]+' With {n} agents'.format(n=n_agents+1))\n",
    "    plt.imshow(img[:,:,0])\n",
    "    \n",
    "    "
   ]
  },
  {
   "cell_type": "code",
   "execution_count": 113,
   "metadata": {},
   "outputs": [
    {
     "data": {
      "text/plain": [
       "array([2.56000000e+02, 2.56000000e+02, 7.40000000e+01, 1.79960000e+04,\n",
       "       2.74597168e-01, 2.02648649e+02, 4.17000000e+02, 4.00000000e+00,\n",
       "       1.46725287e+02, 1.51564235e+02, 9.65728760e-02, 1.55658393e-03,\n",
       "       5.70000000e+01, 8.80075906e+01, 3.56000000e+02, 4.72000000e+02,\n",
       "       1.00000000e+00, 3.00000000e+00, 7.11154584e+01, 7.91890312e+01,\n",
       "       1.00000000e+00, 0.00000000e+00, 0.00000000e+00, 0.00000000e+00,\n",
       "       0.00000000e+00, 0.00000000e+00, 0.00000000e+00, 1.00000000e+00,\n",
       "       0.00000000e+00, 0.00000000e+00, 0.00000000e+00, 0.00000000e+00,\n",
       "       0.00000000e+00, 0.00000000e+00, 0.00000000e+00, 0.00000000e+00,\n",
       "       0.00000000e+00, 0.00000000e+00, 0.00000000e+00, 0.00000000e+00,\n",
       "       0.00000000e+00, 0.00000000e+00, 0.00000000e+00, 0.00000000e+00,\n",
       "       0.00000000e+00, 0.00000000e+00, 0.00000000e+00, 0.00000000e+00,\n",
       "       0.00000000e+00, 0.00000000e+00, 0.00000000e+00, 0.00000000e+00,\n",
       "       0.00000000e+00, 0.00000000e+00, 0.00000000e+00, 0.00000000e+00,\n",
       "       0.00000000e+00, 0.00000000e+00, 0.00000000e+00, 0.00000000e+00,\n",
       "       0.00000000e+00, 2.70270270e-02, 1.35135135e-02, 1.34474328e-02,\n",
       "       4.05405405e-02, 0.00000000e+00, 1.40031118e-02, 2.70270270e-02,\n",
       "       0.00000000e+00, 1.83929762e-02, 8.10810811e-02, 0.00000000e+00,\n",
       "       1.40031118e-02, 0.00000000e+00, 1.35135135e-02, 1.05023339e-02,\n",
       "       0.00000000e+00, 1.35135135e-02, 2.72282729e-03, 0.00000000e+00,\n",
       "       2.70270270e-02, 3.67859524e-02, 0.00000000e+00, 0.00000000e+00,\n",
       "       2.24494332e-02, 5.40540541e-02, 0.00000000e+00, 2.61724828e-02,\n",
       "       2.70270270e-02, 0.00000000e+00, 1.63369638e-02, 2.70270270e-02,\n",
       "       0.00000000e+00, 1.78372972e-02, 6.75675676e-02, 0.00000000e+00,\n",
       "       1.40586797e-02, 2.70270270e-02, 2.70270270e-02, 2.13936430e-02,\n",
       "       0.00000000e+00, 1.35135135e-02, 8.00177817e-03, 0.00000000e+00,\n",
       "       9.45945946e-02, 9.94665481e-03, 0.00000000e+00, 4.05405405e-02,\n",
       "       1.37252723e-02, 2.70270270e-02, 0.00000000e+00, 1.62813959e-02,\n",
       "       2.70270270e-02, 0.00000000e+00, 1.69482107e-02, 1.35135135e-02,\n",
       "       0.00000000e+00, 2.15603467e-02, 2.70270270e-02, 0.00000000e+00,\n",
       "       2.78395199e-02, 0.00000000e+00, 8.10810811e-02, 1.40586797e-02,\n",
       "       0.00000000e+00, 4.05405405e-02, 1.69482107e-02, 0.00000000e+00,\n",
       "       1.35135135e-02, 1.76150256e-02, 0.00000000e+00, 2.70270270e-02,\n",
       "       1.96154701e-02, 6.75675676e-02, 0.00000000e+00, 2.06712603e-02,\n",
       "       0.00000000e+00, 0.00000000e+00, 1.27250500e-02, 4.05405405e-02,\n",
       "       0.00000000e+00, 2.37830629e-02, 4.05405405e-02, 0.00000000e+00,\n",
       "       1.63369638e-02, 0.00000000e+00, 4.05405405e-02, 2.07268282e-02,\n",
       "       0.00000000e+00, 5.40540541e-02, 1.22805068e-02, 0.00000000e+00,\n",
       "       2.70270270e-02, 2.45610136e-02, 0.00000000e+00, 2.70270270e-02,\n",
       "       1.32251611e-02, 1.35135135e-02, 0.00000000e+00, 2.26161369e-02,\n",
       "       1.35135135e-02, 0.00000000e+00, 1.74483218e-02, 2.70270270e-02,\n",
       "       0.00000000e+00, 1.07246055e-02, 2.70270270e-02, 0.00000000e+00,\n",
       "       1.42809513e-02, 1.35135135e-02, 2.70270270e-02, 2.12269393e-02,\n",
       "       0.00000000e+00, 4.05405405e-02, 1.94487664e-02, 0.00000000e+00,\n",
       "       2.70270270e-02, 1.47810625e-02, 0.00000000e+00, 2.70270270e-02,\n",
       "       2.18381863e-02, 0.00000000e+00, 0.00000000e+00, 3.05623472e-02,\n",
       "       0.00000000e+00, 0.00000000e+00, 1.64480996e-02, 2.70270270e-02,\n",
       "       0.00000000e+00, 2.50055568e-03, 6.75675676e-02, 0.00000000e+00,\n",
       "       1.01133585e-02, 0.00000000e+00, 4.05405405e-02, 1.22249389e-02,\n",
       "       0.00000000e+00, 1.35135135e-02, 1.91709269e-02, 0.00000000e+00,\n",
       "       0.00000000e+00, 1.58924205e-02, 0.00000000e+00, 0.00000000e+00,\n",
       "       1.73927539e-02, 1.35135135e-02, 0.00000000e+00, 2.69504334e-02,\n",
       "       1.35135135e-02, 0.00000000e+00, 1.74483218e-02, 5.40540541e-02,\n",
       "       0.00000000e+00, 8.05734608e-03, 2.70270270e-02, 0.00000000e+00,\n",
       "       0.00000000e+00, 0.00000000e+00, 1.35135135e-02, 0.00000000e+00,\n",
       "       0.00000000e+00, 0.00000000e+00, 1.38919760e-03, 0.00000000e+00,\n",
       "       6.75675676e-02, 2.15603467e-02, 0.00000000e+00, 0.00000000e+00,\n",
       "       2.04489887e-02, 0.00000000e+00, 0.00000000e+00, 2.41720382e-02,\n",
       "       1.35135135e-02, 0.00000000e+00, 2.43943098e-02, 4.05405405e-02,\n",
       "       0.00000000e+00, 1.82818404e-02, 2.70270270e-02, 0.00000000e+00,\n",
       "       2.00044454e-03, 0.00000000e+00, 5.40540541e-02, 0.00000000e+00,\n",
       "       0.00000000e+00, 4.05405405e-02, 0.00000000e+00, 0.00000000e+00,\n",
       "       4.05405405e-02, 1.66703712e-04, 0.00000000e+00, 5.40540541e-02,\n",
       "       1.35030007e-02])"
      ]
     },
     "execution_count": 113,
     "metadata": {},
     "output_type": "execute_result"
    }
   ],
   "source": [
    "df.iloc[0][features_cols].values.astype('float')"
   ]
  },
  {
   "cell_type": "markdown",
   "metadata": {},
   "source": [
    "1. Which starting point connects to which ending point \n",
    "2. And which one is the start and which is end\n",
    "3. Map features"
   ]
  },
  {
   "cell_type": "code",
   "execution_count": 31,
   "metadata": {},
   "outputs": [
    {
     "data": {
      "image/png": "[encoded data removed]",
      "text/plain": [
       "<Figure size 432x288 with 1 Axes>"
      ]
     },
     "metadata": {
      "needs_background": "light"
     },
     "output_type": "display_data"
    }
   ],
   "source": [
    "def plot_color_gradients(name='viridis'):\n",
    "    gradient = np.linspace(0, 1, 256)\n",
    "    gradient = np.vstack((gradient, gradient))\n",
    "\n",
    "    fig, axes = plt.subplots()\n",
    "    fig.subplots_adjust(top=0.95, bottom=0.01, left=0.2, right=0.99)\n",
    "    axes.set_title('viridis colormaps', fontsize=14)\n",
    "\n",
    "    axes.imshow(gradient, aspect='auto', cmap=plt.get_cmap(name))\n",
    "    pos = list(axes.get_position().bounds)\n",
    "    x_text = pos[0] - 0.01\n",
    "    y_text = pos[1] + pos[3]/2.\n",
    "    fig.text(x_text, y_text, name, va='center', ha='right', fontsize=10)\n",
    "\n",
    "    # Turn off *all* ticks & spines, not just the ones with colormaps.\n",
    "    axes.set_axis_off()\n",
    "\n",
    "plot_color_gradients()"
   ]
  },
  {
   "cell_type": "markdown",
   "metadata": {},
   "source": [
    "\n",
    "### Plotting specific maps runtime distribution ###"
   ]
  },
  {
   "cell_type": "code",
   "execution_count": 120,
   "metadata": {},
   "outputs": [],
   "source": [
    "def plot_problem_runtime_hist(df, instance_id,gridname,runtime_cols):\n",
    "    fig,ax = plt.subplots()\n",
    "    tmp_df = df[(df.InstanceId==instance_id)&(df.GridName==gridname)]\n",
    "    for algorithm in runtime_cols:\n",
    "        if algorithm=='Y Runtime':\n",
    "            continue\n",
    "#             plt.plot(tmp_df[algorithm].values,  '1-', label=algorithm)\n",
    "        plt.plot(tmp_df[algorithm].values, label=algorithm)\n",
    "        ax.set_xlabel(\"NumOfAgents\")\n",
    "        ax.set_ylabel(\"algorithm\")\n",
    "        ax.legend(loc='best')\n",
    "        ax.set_title('Instance: {i},d grid: {g}'.format(i=instance_id,g=gridname))"
   ]
  },
  {
   "cell_type": "code",
   "execution_count": 123,
   "metadata": {},
   "outputs": [
    {
     "data": {
      "image/png": "[encoded data removed]",
      "text/plain": [
       "<Figure size 432x288 with 1 Axes>"
      ]
     },
     "metadata": {
      "needs_background": "light"
     },
     "output_type": "display_data"
    }
   ],
   "source": [
    "instance_id=1\n",
    "gridname='den312d'\n",
    "plot_problem_runtime_hist(df,instance_id,gridname,runtime_cols)"
   ]
  },
  {
   "cell_type": "markdown",
   "metadata": {},
   "source": [
    "### How can we visualize the variability for each grid, across different instances? ###"
   ]
  },
  {
   "cell_type": "code",
   "execution_count": 130,
   "metadata": {},
   "outputs": [],
   "source": [
    "winners_df['SolvesFinishedCount'] = winners_df[success_cols].sum(axis=1)"
   ]
  },
  {
   "cell_type": "code",
   "execution_count": 142,
   "metadata": {},
   "outputs": [],
   "source": [
    "algorithm_success_in_map = winners_df[winners_df.SolvesFinishedCount==1].groupby('GridName')['Y'].value_counts()"
   ]
  },
  {
   "cell_type": "code",
   "execution_count": 165,
   "metadata": {},
   "outputs": [
    {
     "data": {
      "text/plain": [
       "211       cbsh Runtime\n",
       "12835     icts Runtime\n",
       "13012     epea Runtime\n",
       "18836     epea Runtime\n",
       "13262     epea Runtime\n",
       "13525     icts Runtime\n",
       "13672     icts Runtime\n",
       "19635     epea Runtime\n",
       "13989     icts Runtime\n",
       "14115     epea Runtime\n",
       "16592    astar Runtime\n",
       "14340     epea Runtime\n",
       "14532     epea Runtime\n",
       "18909     epea Runtime\n",
       "18990     epea Runtime\n",
       "3882      cbsh Runtime\n",
       "4346      cbsh Runtime\n",
       "19108     icts Runtime\n",
       "18474     icts Runtime\n",
       "19200     epea Runtime\n",
       "6367      cbsh Runtime\n",
       "6928      cbsh Runtime\n",
       "17820     icts Runtime\n",
       "15993     epea Runtime\n",
       "19527     epea Runtime\n",
       "Name: Y, dtype: object"
      ]
     },
     "execution_count": 165,
     "metadata": {},
     "output_type": "execute_result"
    }
   ],
   "source": [
    "winners_df[winners_df.GridName=='den520d']['Y']"
   ]
  },
  {
   "cell_type": "code",
   "execution_count": 162,
   "metadata": {},
   "outputs": [
    {
     "data": {
      "text/plain": [
       "GridName\n",
       "Berlin_1_256            5.333333\n",
       "Boston_0_256            4.333333\n",
       "Paris_1_256             3.750000\n",
       "brc202d                12.000000\n",
       "den312d                 7.000000\n",
       "den520d                 2.750000\n",
       "empty-16-16             6.333333\n",
       "empty-32-32             3.750000\n",
       "empty-48-48             4.666667\n",
       "empty-8-8              24.000000\n",
       "ht_chantry              7.000000\n",
       "ht_mansion_n            4.500000\n",
       "lak303d                11.000000\n",
       "lt_gallowstemplar_n    11.500000\n",
       "maze-128-128-2          3.666667\n",
       "maze-32-32-2            8.000000\n",
       "maze-32-32-4            4.333333\n",
       "orz900d                10.000000\n",
       "ost003d                 5.500000\n",
       "random-32-32-10         4.250000\n",
       "random-32-32-20        11.500000\n",
       "random-64-64-10         8.000000\n",
       "random-64-64-20         4.000000\n",
       "room-32-32-4            6.000000\n",
       "room-64-64-16           4.000000\n",
       "room-64-64-8            4.500000\n",
       "w_woundedcoast          5.666667\n",
       "Name: Y, dtype: float64"
      ]
     },
     "execution_count": 162,
     "metadata": {},
     "output_type": "execute_result"
    }
   ],
   "source": [
    "algorithm_success_in_map.groupby(['GridName']).mean()"
   ]
  },
  {
   "cell_type": "markdown",
   "metadata": {},
   "source": [
    "### Model results to latex"
   ]
  },
  {
   "cell_type": "code",
   "execution_count": 282,
   "metadata": {},
   "outputs": [
    {
     "ename": "UnicodeDecodeError",
     "evalue": "'utf-8' codec can't decode byte 0xb1 in position 6: invalid start byte",
     "output_type": "error",
     "traceback": [
      "\u001b[0;31m---------------------------------------------------------------------------\u001b[0m",
      "\u001b[0;31mUnicodeDecodeError\u001b[0m                        Traceback (most recent call last)",
      "\u001b[0;32mpandas\\_libs\\parsers.pyx\u001b[0m in \u001b[0;36mpandas._libs.parsers.TextReader._convert_tokens\u001b[0;34m()\u001b[0m\n",
      "\u001b[0;32mpandas\\_libs\\parsers.pyx\u001b[0m in \u001b[0;36mpandas._libs.parsers.TextReader._convert_with_dtype\u001b[0;34m()\u001b[0m\n",
      "\u001b[0;32mpandas\\_libs\\parsers.pyx\u001b[0m in \u001b[0;36mpandas._libs.parsers.TextReader._string_convert\u001b[0;34m()\u001b[0m\n",
      "\u001b[0;32mpandas\\_libs\\parsers.pyx\u001b[0m in \u001b[0;36mpandas._libs.parsers._string_box_utf8\u001b[0;34m()\u001b[0m\n",
      "\u001b[0;31mUnicodeDecodeError\u001b[0m: 'utf-8' codec can't decode byte 0xb1 in position 6: invalid start byte",
      "\nDuring handling of the above exception, another exception occurred:\n",
      "\u001b[0;31mUnicodeDecodeError\u001b[0m                        Traceback (most recent call last)",
      "\u001b[0;32m<ipython-input-282-efe46d8bb670>\u001b[0m in \u001b[0;36m<module>\u001b[0;34m()\u001b[0m\n\u001b[0;32m----> 1\u001b[0;31m \u001b[0mpd\u001b[0m\u001b[0;34m.\u001b[0m\u001b[0mread_csv\u001b[0m\u001b[0;34m(\u001b[0m\u001b[0;34m'../src/model-results.csv'\u001b[0m\u001b[0;34m)\u001b[0m\u001b[0;34m\u001b[0m\u001b[0;34m\u001b[0m\u001b[0m\n\u001b[0m",
      "\u001b[0;32mc:\\users\\omri\\appdata\\local\\programs\\python\\python36\\lib\\site-packages\\pandas\\io\\parsers.py\u001b[0m in \u001b[0;36mread_csv\u001b[0;34m(filepath_or_buffer, sep, delimiter, header, names, index_col, usecols, squeeze, prefix, mangle_dupe_cols, dtype, engine, converters, true_values, false_values, skipinitialspace, skiprows, skipfooter, nrows, na_values, keep_default_na, na_filter, verbose, skip_blank_lines, parse_dates, infer_datetime_format, keep_date_col, date_parser, dayfirst, cache_dates, iterator, chunksize, compression, thousands, decimal, lineterminator, quotechar, quoting, doublequote, escapechar, comment, encoding, dialect, error_bad_lines, warn_bad_lines, delim_whitespace, low_memory, memory_map, float_precision)\u001b[0m\n\u001b[1;32m    684\u001b[0m     )\n\u001b[1;32m    685\u001b[0m \u001b[0;34m\u001b[0m\u001b[0m\n\u001b[0;32m--> 686\u001b[0;31m     \u001b[0;32mreturn\u001b[0m \u001b[0m_read\u001b[0m\u001b[0;34m(\u001b[0m\u001b[0mfilepath_or_buffer\u001b[0m\u001b[0;34m,\u001b[0m \u001b[0mkwds\u001b[0m\u001b[0;34m)\u001b[0m\u001b[0;34m\u001b[0m\u001b[0;34m\u001b[0m\u001b[0m\n\u001b[0m\u001b[1;32m    687\u001b[0m \u001b[0;34m\u001b[0m\u001b[0m\n\u001b[1;32m    688\u001b[0m \u001b[0;34m\u001b[0m\u001b[0m\n",
      "\u001b[0;32mc:\\users\\omri\\appdata\\local\\programs\\python\\python36\\lib\\site-packages\\pandas\\io\\parsers.py\u001b[0m in \u001b[0;36m_read\u001b[0;34m(filepath_or_buffer, kwds)\u001b[0m\n\u001b[1;32m    456\u001b[0m \u001b[0;34m\u001b[0m\u001b[0m\n\u001b[1;32m    457\u001b[0m     \u001b[0;32mtry\u001b[0m\u001b[0;34m:\u001b[0m\u001b[0;34m\u001b[0m\u001b[0;34m\u001b[0m\u001b[0m\n\u001b[0;32m--> 458\u001b[0;31m         \u001b[0mdata\u001b[0m \u001b[0;34m=\u001b[0m \u001b[0mparser\u001b[0m\u001b[0;34m.\u001b[0m\u001b[0mread\u001b[0m\u001b[0;34m(\u001b[0m\u001b[0mnrows\u001b[0m\u001b[0;34m)\u001b[0m\u001b[0;34m\u001b[0m\u001b[0;34m\u001b[0m\u001b[0m\n\u001b[0m\u001b[1;32m    459\u001b[0m     \u001b[0;32mfinally\u001b[0m\u001b[0;34m:\u001b[0m\u001b[0;34m\u001b[0m\u001b[0;34m\u001b[0m\u001b[0m\n\u001b[1;32m    460\u001b[0m         \u001b[0mparser\u001b[0m\u001b[0;34m.\u001b[0m\u001b[0mclose\u001b[0m\u001b[0;34m(\u001b[0m\u001b[0;34m)\u001b[0m\u001b[0;34m\u001b[0m\u001b[0;34m\u001b[0m\u001b[0m\n",
      "\u001b[0;32mc:\\users\\omri\\appdata\\local\\programs\\python\\python36\\lib\\site-packages\\pandas\\io\\parsers.py\u001b[0m in \u001b[0;36mread\u001b[0;34m(self, nrows)\u001b[0m\n\u001b[1;32m   1184\u001b[0m     \u001b[0;32mdef\u001b[0m \u001b[0mread\u001b[0m\u001b[0;34m(\u001b[0m\u001b[0mself\u001b[0m\u001b[0;34m,\u001b[0m \u001b[0mnrows\u001b[0m\u001b[0;34m=\u001b[0m\u001b[0;32mNone\u001b[0m\u001b[0;34m)\u001b[0m\u001b[0;34m:\u001b[0m\u001b[0;34m\u001b[0m\u001b[0;34m\u001b[0m\u001b[0m\n\u001b[1;32m   1185\u001b[0m         \u001b[0mnrows\u001b[0m \u001b[0;34m=\u001b[0m \u001b[0m_validate_integer\u001b[0m\u001b[0;34m(\u001b[0m\u001b[0;34m\"nrows\"\u001b[0m\u001b[0;34m,\u001b[0m \u001b[0mnrows\u001b[0m\u001b[0;34m)\u001b[0m\u001b[0;34m\u001b[0m\u001b[0;34m\u001b[0m\u001b[0m\n\u001b[0;32m-> 1186\u001b[0;31m         \u001b[0mret\u001b[0m \u001b[0;34m=\u001b[0m \u001b[0mself\u001b[0m\u001b[0;34m.\u001b[0m\u001b[0m_engine\u001b[0m\u001b[0;34m.\u001b[0m\u001b[0mread\u001b[0m\u001b[0;34m(\u001b[0m\u001b[0mnrows\u001b[0m\u001b[0;34m)\u001b[0m\u001b[0;34m\u001b[0m\u001b[0;34m\u001b[0m\u001b[0m\n\u001b[0m\u001b[1;32m   1187\u001b[0m \u001b[0;34m\u001b[0m\u001b[0m\n\u001b[1;32m   1188\u001b[0m         \u001b[0;31m# May alter columns / col_dict\u001b[0m\u001b[0;34m\u001b[0m\u001b[0;34m\u001b[0m\u001b[0;34m\u001b[0m\u001b[0m\n",
      "\u001b[0;32mc:\\users\\omri\\appdata\\local\\programs\\python\\python36\\lib\\site-packages\\pandas\\io\\parsers.py\u001b[0m in \u001b[0;36mread\u001b[0;34m(self, nrows)\u001b[0m\n\u001b[1;32m   2143\u001b[0m     \u001b[0;32mdef\u001b[0m \u001b[0mread\u001b[0m\u001b[0;34m(\u001b[0m\u001b[0mself\u001b[0m\u001b[0;34m,\u001b[0m \u001b[0mnrows\u001b[0m\u001b[0;34m=\u001b[0m\u001b[0;32mNone\u001b[0m\u001b[0;34m)\u001b[0m\u001b[0;34m:\u001b[0m\u001b[0;34m\u001b[0m\u001b[0;34m\u001b[0m\u001b[0m\n\u001b[1;32m   2144\u001b[0m         \u001b[0;32mtry\u001b[0m\u001b[0;34m:\u001b[0m\u001b[0;34m\u001b[0m\u001b[0;34m\u001b[0m\u001b[0m\n\u001b[0;32m-> 2145\u001b[0;31m             \u001b[0mdata\u001b[0m \u001b[0;34m=\u001b[0m \u001b[0mself\u001b[0m\u001b[0;34m.\u001b[0m\u001b[0m_reader\u001b[0m\u001b[0;34m.\u001b[0m\u001b[0mread\u001b[0m\u001b[0;34m(\u001b[0m\u001b[0mnrows\u001b[0m\u001b[0;34m)\u001b[0m\u001b[0;34m\u001b[0m\u001b[0;34m\u001b[0m\u001b[0m\n\u001b[0m\u001b[1;32m   2146\u001b[0m         \u001b[0;32mexcept\u001b[0m \u001b[0mStopIteration\u001b[0m\u001b[0;34m:\u001b[0m\u001b[0;34m\u001b[0m\u001b[0;34m\u001b[0m\u001b[0m\n\u001b[1;32m   2147\u001b[0m             \u001b[0;32mif\u001b[0m \u001b[0mself\u001b[0m\u001b[0;34m.\u001b[0m\u001b[0m_first_chunk\u001b[0m\u001b[0;34m:\u001b[0m\u001b[0;34m\u001b[0m\u001b[0;34m\u001b[0m\u001b[0m\n",
      "\u001b[0;32mpandas\\_libs\\parsers.pyx\u001b[0m in \u001b[0;36mpandas._libs.parsers.TextReader.read\u001b[0;34m()\u001b[0m\n",
      "\u001b[0;32mpandas\\_libs\\parsers.pyx\u001b[0m in \u001b[0;36mpandas._libs.parsers.TextReader._read_low_memory\u001b[0;34m()\u001b[0m\n",
      "\u001b[0;32mpandas\\_libs\\parsers.pyx\u001b[0m in \u001b[0;36mpandas._libs.parsers.TextReader._read_rows\u001b[0;34m()\u001b[0m\n",
      "\u001b[0;32mpandas\\_libs\\parsers.pyx\u001b[0m in \u001b[0;36mpandas._libs.parsers.TextReader._convert_column_data\u001b[0;34m()\u001b[0m\n",
      "\u001b[0;32mpandas\\_libs\\parsers.pyx\u001b[0m in \u001b[0;36mpandas._libs.parsers.TextReader._convert_tokens\u001b[0;34m()\u001b[0m\n",
      "\u001b[0;32mpandas\\_libs\\parsers.pyx\u001b[0m in \u001b[0;36mpandas._libs.parsers.TextReader._convert_with_dtype\u001b[0;34m()\u001b[0m\n",
      "\u001b[0;32mpandas\\_libs\\parsers.pyx\u001b[0m in \u001b[0;36mpandas._libs.parsers.TextReader._string_convert\u001b[0;34m()\u001b[0m\n",
      "\u001b[0;32mpandas\\_libs\\parsers.pyx\u001b[0m in \u001b[0;36mpandas._libs.parsers._string_box_utf8\u001b[0;34m()\u001b[0m\n",
      "\u001b[0;31mUnicodeDecodeError\u001b[0m: 'utf-8' codec can't decode byte 0xb1 in position 6: invalid start byte"
     ]
    }
   ],
   "source": [
    "pd.read_csv('../src/model-results.csv')"
   ]
  },
  {
   "cell_type": "code",
   "execution_count": null,
   "metadata": {},
   "outputs": [],
   "source": []
  }
 ],
 "metadata": {
  "kernelspec": {
   "display_name": "Python 3",
   "language": "python",
   "name": "python3"
  },
  "language_info": {
   "codemirror_mode": {
    "name": "ipython",
    "version": 3
   },
   "file_extension": ".py",
   "mimetype": "text/x-python",
   "name": "python",
   "nbconvert_exporter": "python",
   "pygments_lexer": "ipython3",
   "version": "3.6.8"
  }
 },
 "nbformat": 4,
 "nbformat_minor": 2
}
