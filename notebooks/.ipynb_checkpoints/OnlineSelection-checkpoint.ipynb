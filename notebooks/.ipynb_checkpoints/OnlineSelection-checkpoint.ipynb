{
 "cells": [
  {
   "cell_type": "code",
   "execution_count": 146,
   "metadata": {},
   "outputs": [],
   "source": [
    "import sys; sys.path.insert(0, '..') #Add upper folder to path\n",
    "from src.preprocess import Preprocess\n",
    "from src.metrics import coverage_score, cumsum_score, runtime_adjusted_coverage_score\n",
    "from sklearn.metrics import accuracy_score\n",
    "import matplotlib.pyplot as plt\n",
    "%matplotlib inline\n",
    "import pandas as pd\n",
    "import yaml\n",
    "import numpy as np\n",
    "import random"
   ]
  },
  {
   "cell_type": "code",
   "execution_count": 147,
   "metadata": {},
   "outputs": [],
   "source": [
    "with open(\"../src/config.yaml\", 'r') as stream:\n",
    "    config = yaml.safe_load(stream)\n",
    "\n",
    "features_cols = config['features']\n",
    "\n",
    "algorithms = config['algorithms']\n",
    "max_runtime = config['max_runtime']\n",
    "max_sub_runtime = config['max_sub_runtime']\n",
    "runtime_cols = [algorithm + ' Runtime' for algorithm in algorithms]\n",
    "alg_runtime_cols = runtime_cols.copy()\n",
    "runtime_cols.append('Y Runtime')\n",
    "success_cols = [algorithm + ' Success' for algorithm in algorithms]\n",
    "success_cols\n",
    "data_path = '../src/AllData-labelled.csv'\n",
    "df = pd.read_csv(data_path)\n",
    "\n",
    "# drop_maps = None\n",
    "drop_maps = ['warehouse']\n",
    "\n",
    "if drop_maps is not None:\n",
    "    for maptype in drop_maps:\n",
    "        df = df[~df.GridName.str.contains(maptype)]\n",
    "    df = df.reset_index(drop=True)"
   ]
  },
  {
   "cell_type": "code",
   "execution_count": 148,
   "metadata": {},
   "outputs": [
    {
     "data": {
      "text/plain": [
       "['icts Runtime', 'epea Runtime', 'cbsh-c Runtime']"
      ]
     },
     "execution_count": 148,
     "metadata": {},
     "output_type": "execute_result"
    }
   ],
   "source": [
    "alg_runtime_cols"
   ]
  },
  {
   "cell_type": "code",
   "execution_count": 149,
   "metadata": {},
   "outputs": [],
   "source": [
    "def add_partial_problem_label(row, p,algorithms,alg_max_runtimes):\n",
    "    n_agents = max(int(p*row['NumOfAgents']),2) #MAPF problem can have less then 2 agents\n",
    "    \n",
    "    res = df[(df.NumOfAgents==n_agents)&(df.GridName==row.GridName)&(df.InstanceId==row.InstanceId)]\n",
    "    if len(res)==0:\n",
    "        print(\"No such problem! n_agents: {n}, instance: {i}, grid: {g}\".format(n= n_agents,i=row.InstanceId, g=row.GridName))\n",
    "        res = df[(df.NumOfAgents==n_agents+1)&(df.GridName==row.GridName)&(df.InstanceId==row.InstanceId)]\n",
    "        # In case the problem wasn't found - it's some kind of error in the dataset (very rare)\n",
    "        # We deal with it by taking the p*N+1 which we know exists\n",
    "    \n",
    "    label = res['Y'].values[0]\n",
    "    label_runtime = res['Y Runtime'].values[0]\n",
    "    time = res[algorithms]\n",
    "    for alg_max_runtime in alg_max_runtimes:\n",
    "        subproblem_prefix = str(p)+'maxtime_'+str(alg_max_runtime)\n",
    "        capped_time = time.where(time < alg_max_runtime, alg_max_runtime)\n",
    "\n",
    "        row[subproblem_prefix+'calctime'] = capped_time.sum(1).values[0]\n",
    "        if row[subproblem_prefix+'calctime'] == len(algorithms)*alg_max_runtime:\n",
    "            #No algorithm solved the sub-problem at time\n",
    "            label = random.choice(algorithms)\n",
    "            label_runtime = res[label].values[0]\n",
    "\n",
    "    row[str(percentage)+'Y'] = label\n",
    "    row[str(percentage)+'Y Runtime'] = label_runtime\n",
    "    return row"
   ]
  },
  {
   "cell_type": "code",
   "execution_count": 111,
   "metadata": {},
   "outputs": [],
   "source": [
    "percentage_bins = [0.1,0.25,0.5,0.75,0.9,0.95]\n",
    "subproblem_runtimes = [60000, 30000,10000,5000]\n",
    "# percentage_bins = [0.9]\n",
    "# subproblem_runtimes = [5000]"
   ]
  },
  {
   "cell_type": "code",
   "execution_count": 112,
   "metadata": {},
   "outputs": [],
   "source": [
    "# def p_feature_time(row, p, algorithms, alg_max_runtimes):\n",
    "#     time = df[(df.NumOfAgents==int(p*row['NumOfAgents']))&(df.GridName==row.GridName)&(df.InstanceId==row.InstanceId)][algorithms]    \n",
    "#     for alg_max_runtime in alg_max_runtimes:\n",
    "#         subproblem_prefix = str(p)+'maxtime_'+str(alg_max_runtime)\n",
    "#         capped_time = time.where(time < alg_max_runtime, alg_max_runtime)\n",
    "        \n",
    "#         if len(capped_time)==0:\n",
    "#             if int(p*row.NumOfAgents)>1:\n",
    "#                 print(\"No such problem!\", int(p*row.NumOfAgents))\n",
    "#             row[subproblem_prefix+'calctime'] = row['Y Runtime']\n",
    "#         else:\n",
    "#             row[subproblem_prefix+'calctime'] = capped_time.sum(1).values[0]\n",
    "#     return row"
   ]
  },
  {
   "cell_type": "code",
   "execution_count": 113,
   "metadata": {},
   "outputs": [],
   "source": [
    "subproblem_columns = []\n",
    "subproblem_columns.append('Y')\n",
    "for percentage in percentage_bins:\n",
    "    subproblem_columns.append(str(percentage)+'Y')\n",
    "    subproblem_columns.append(str(percentage)+'NumOfAgents')\n",
    "    \n",
    "    for subproblem_runtime in [60000, 30000,10000,5000,1000]:\n",
    "        subproblem_prefix = str(percentage)+'maxtime_'+str(subproblem_runtime)\n",
    "        for c in ['Y Runtime','Y Success','calctime']:\n",
    "            subproblem_columns.append(subproblem_prefix + c)\n",
    "# df[subproblem_columns]"
   ]
  },
  {
   "cell_type": "code",
   "execution_count": 114,
   "metadata": {},
   "outputs": [],
   "source": [
    "# df = pd.read_csv('AllData-labelled-partial_problems.csv')"
   ]
  },
  {
   "cell_type": "code",
   "execution_count": 116,
   "metadata": {},
   "outputs": [
    {
     "name": "stdout",
     "output_type": "stream",
     "text": [
      "percentage: 0.1\n",
      "maxtime: 60000\n",
      "maxtime: 30000\n",
      "maxtime: 10000\n",
      "maxtime: 5000\n",
      "percentage: 0.25\n",
      "maxtime: 60000\n",
      "maxtime: 30000\n",
      "maxtime: 10000\n",
      "maxtime: 5000\n",
      "percentage: 0.5\n",
      "maxtime: 60000\n",
      "maxtime: 30000\n",
      "maxtime: 10000\n",
      "maxtime: 5000\n",
      "percentage: 0.75\n",
      "maxtime: 60000\n",
      "maxtime: 30000\n",
      "maxtime: 10000\n",
      "maxtime: 5000\n",
      "percentage: 0.9\n",
      "No such problem! n_agents: 34, instance: 1, grid: ht_chantry\n",
      "No such problem! n_agents: 36, instance: 1, grid: lt_gallowstemplar_n\n",
      "No such problem! n_agents: 16, instance: 2, grid: maze-128-128-2\n",
      "No such problem! n_agents: 18, instance: 3, grid: maze-128-128-2\n",
      "No such problem! n_agents: 20, instance: 3, grid: maze-32-32-4\n",
      "No such problem! n_agents: 16, instance: 17, grid: maze-128-128-2\n",
      "No such problem! n_agents: 53, instance: 18, grid: Boston_0_256\n",
      "No such problem! n_agents: 15, instance: 18, grid: maze-128-128-2\n",
      "No such problem! n_agents: 22, instance: 19, grid: maze-32-32-2\n",
      "No such problem! n_agents: 16, instance: 19, grid: maze-32-32-4\n",
      "No such problem! n_agents: 18, instance: 23, grid: maze-128-128-10\n",
      "No such problem! n_agents: 21, instance: 11, grid: maze-128-128-2\n",
      "maxtime: 60000\n",
      "maxtime: 30000\n",
      "maxtime: 10000\n",
      "maxtime: 5000\n"
     ]
    }
   ],
   "source": [
    "for percentage in percentage_bins:\n",
    "    df[str(percentage)+'NumOfAgents'] = (df.NumOfAgents*percentage).astype(int)\n",
    "    print(\"percentage:\",percentage)\n",
    "    df = df.apply(lambda x: add_partial_problem_label(x, percentage,alg_runtime_cols,subproblem_runtimes),axis=1) #Adds 0.xY + 0.xY Runtime columns\n",
    "    for subproblem_runtime in subproblem_runtimes:\n",
    "        print(\"maxtime:\",subproblem_runtime)\n",
    "        \n",
    "        subproblem_prefix = str(percentage)+'maxtime_'+str(subproblem_runtime)\n",
    "        df[subproblem_prefix+'Y Runtime'] = df[str(percentage)+'Y Runtime'].copy()\n",
    "        df[subproblem_prefix+'Y Success'] = df.apply(lambda x: x[subproblem_prefix+'Y Runtime']<subproblem_runtime, axis=1)\n",
    "        df.loc[df[subproblem_prefix+'Y Runtime'] > subproblem_runtime, subproblem_prefix+'Y Runtime'] = subproblem_runtime\n",
    "#     df = df.apply(lambda x: p_feature_time(x,percentage,alg_runtime_cols,subproblem_runtimes),axis=1)"
   ]
  },
  {
   "cell_type": "markdown",
   "metadata": {},
   "source": [
    "### How many problems we \"lose\" due to the computation of the sub-problem?"
   ]
  },
  {
   "cell_type": "code",
   "execution_count": 119,
   "metadata": {},
   "outputs": [],
   "source": [
    "lost_problems = pd.DataFrame(columns=['p','max_time','oracle_coverage','num_problems'])\n",
    "for percentage in percentage_bins:\n",
    "    for subproblem_runtime in [60000, 30000,10000,5000]:\n",
    "        subproblem_prefix = str(percentage)+'maxtime_'+str(subproblem_runtime)\n",
    "        lost = df[df[subproblem_prefix+'calctime']+df['Y Runtime']>=max_runtime]\n",
    "        oracle_coverage =  1 - len(lost)/len(df)\n",
    "        subprob_coverage = (df[subproblem_prefix+'Y Success']==1).sum()/len(df)\n",
    "        lost_problems = lost_problems.append({'p':percentage,'max_time':subproblem_runtime,'oracle_coverage':oracle_coverage, 'subproblem_coverage':subprob_coverage,'num_problems':len(lost),},ignore_index=True)\n",
    "\n",
    "lost_problems.sort_values(by=['p','max_time'], ascending=False).to_csv('lost_problems.csv')"
   ]
  },
  {
   "cell_type": "code",
   "execution_count": 145,
   "metadata": {},
   "outputs": [],
   "source": [
    "df.to_csv('AllData-labelled-partial_problems.csv',index=False)"
   ]
  },
  {
   "cell_type": "markdown",
   "metadata": {},
   "source": [
    "### Let's compute metrics for each of those baselines (I.e., predicting for the N-agents problem, the p*N agents label) ###"
   ]
  },
  {
   "cell_type": "code",
   "execution_count": 144,
   "metadata": {},
   "outputs": [
    {
     "name": "stdout",
     "output_type": "stream",
     "text": [
      "Score 0.5841270534778049 for percentage 0.1 and subproblem runtime 60000\n",
      "Score 0.5842799720377491 for percentage 0.1 and subproblem runtime 30000\n",
      "Score 0.5847168822090179 for percentage 0.1 and subproblem runtime 10000\n",
      "Score 0.5847387277175813 for percentage 0.1 and subproblem runtime 5000\n",
      "Score 0.6931361412093674 for percentage 0.25 and subproblem runtime 60000\n",
      "Score 0.6935948968891996 for percentage 0.25 and subproblem runtime 30000\n",
      "Score 0.694315798671793 for percentage 0.25 and subproblem runtime 10000\n",
      "Score 0.6946216357916812 for percentage 0.25 and subproblem runtime 5000\n",
      "Score 0.7615999650471863 for percentage 0.5 and subproblem runtime 60000\n",
      "Score 0.7661438308283817 for percentage 0.5 and subproblem runtime 30000\n",
      "Score 0.7692895840615169 for percentage 0.5 and subproblem runtime 10000\n",
      "Score 0.7701415588954911 for percentage 0.5 and subproblem runtime 5000\n",
      "Score 0.7973392170569731 for percentage 0.75 and subproblem runtime 60000\n",
      "Score 0.8075410695560993 for percentage 0.75 and subproblem runtime 30000\n",
      "Score 0.8126747640685075 for percentage 0.75 and subproblem runtime 10000\n",
      "Score 0.8138107305138064 for percentage 0.75 and subproblem runtime 5000\n",
      "Score 0.7896714435512059 for percentage 0.9 and subproblem runtime 60000\n",
      "Score 0.806929395316323 for percentage 0.9 and subproblem runtime 30000\n",
      "Score 0.8137888850052429 for percentage 0.9 and subproblem runtime 10000\n",
      "Score 0.8154928346731912 for percentage 0.9 and subproblem runtime 5000\n"
     ]
    }
   ],
   "source": [
    "for percentage in percentage_bins:\n",
    "    for subproblem_runtime in subproblem_runtimes:\n",
    "        subproblem_prefix = str(percentage)+'maxtime_'+str(subproblem_runtime)\n",
    "#         partially_solved_only_df = df[df[subproblem_prefix+'Y Success']==1].copy()\n",
    "        print('Score {s} for percentage {p} and subproblem runtime {t}'.format(s=runtime_adjusted_coverage_score(df, df[str(percentage)+'Y'], max_runtime_arr=(max_runtime - df[subproblem_prefix+'calctime'])),p=percentage,t=subproblem_runtime))"
   ]
  },
  {
   "cell_type": "code",
   "execution_count": 38,
   "metadata": {},
   "outputs": [
    {
     "data": {
      "text/plain": [
       "'macbs Runtime'"
      ]
     },
     "execution_count": 38,
     "metadata": {},
     "output_type": "execute_result"
    }
   ],
   "source": [
    "df[(df.NumOfAgents==10)&(df.GridName=='Berlin_1_256')&(df.InstanceId==1)]['Y'].values[0]"
   ]
  }
 ],
 "metadata": {
  "kernelspec": {
   "display_name": "Python 3",
   "language": "python",
   "name": "python3"
  },
  "language_info": {
   "codemirror_mode": {
    "name": "ipython",
    "version": 3
   },
   "file_extension": ".py",
   "mimetype": "text/x-python",
   "name": "python",
   "nbconvert_exporter": "python",
   "pygments_lexer": "ipython3",
   "version": "3.6.8"
  }
 },
 "nbformat": 4,
 "nbformat_minor": 2
}
